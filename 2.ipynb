{
 "cells": [
  {
   "cell_type": "code",
   "execution_count": 1,
   "metadata": {},
   "outputs": [],
   "source": [
    "import os\n",
    "import numpy as np\n",
    "import pandas as pd\n",
    "from sklearn.model_selection import train_test_split\n",
    "from sklearn.preprocessing import StandardScaler\n",
    "import seaborn as sns\n",
    "import os "
   ]
  },
  {
   "cell_type": "code",
   "execution_count": 2,
   "metadata": {},
   "outputs": [
    {
     "data": {
      "text/plain": [
       "'/Users/saketh/Documents/Insofe/mith/train_test_data-1573736212625/3223'"
      ]
     },
     "execution_count": 2,
     "metadata": {},
     "output_type": "execute_result"
    }
   ],
   "source": [
    "os.getcwd()"
   ]
  },
  {
   "cell_type": "code",
   "execution_count": 3,
   "metadata": {},
   "outputs": [
    {
     "data": {
      "text/plain": [
       "'/Users/saketh/Documents/Insofe/mith/train_test_data-1573736212625'"
      ]
     },
     "execution_count": 3,
     "metadata": {},
     "output_type": "execute_result"
    }
   ],
   "source": [
    "os.chdir(\"/Users/saketh/Documents/Insofe/mith/train_test_data-1573736212625/\")\n",
    "os.getcwd()"
   ]
  },
  {
   "cell_type": "code",
   "execution_count": 6,
   "metadata": {},
   "outputs": [
    {
     "data": {
      "text/html": [
       "<div>\n",
       "<style scoped>\n",
       "    .dataframe tbody tr th:only-of-type {\n",
       "        vertical-align: middle;\n",
       "    }\n",
       "\n",
       "    .dataframe tbody tr th {\n",
       "        vertical-align: top;\n",
       "    }\n",
       "\n",
       "    .dataframe thead th {\n",
       "        text-align: right;\n",
       "    }\n",
       "</style>\n",
       "<table border=\"1\" class=\"dataframe\">\n",
       "  <thead>\n",
       "    <tr style=\"text-align: right;\">\n",
       "      <th></th>\n",
       "      <th>BillDate</th>\n",
       "      <th>BillNumber</th>\n",
       "      <th>CustomerId</th>\n",
       "      <th>ProductID</th>\n",
       "      <th>Quantity</th>\n",
       "      <th>UnitPrice</th>\n",
       "    </tr>\n",
       "  </thead>\n",
       "  <tbody>\n",
       "    <tr>\n",
       "      <th>0</th>\n",
       "      <td>2013-01-01 8:26</td>\n",
       "      <td>B12551</td>\n",
       "      <td>C25132</td>\n",
       "      <td>PR9338</td>\n",
       "      <td>6</td>\n",
       "      <td>2.55</td>\n",
       "    </tr>\n",
       "    <tr>\n",
       "      <th>1</th>\n",
       "      <td>2013-01-01 8:26</td>\n",
       "      <td>B12551</td>\n",
       "      <td>C25132</td>\n",
       "      <td>PR8754</td>\n",
       "      <td>6</td>\n",
       "      <td>3.39</td>\n",
       "    </tr>\n",
       "    <tr>\n",
       "      <th>2</th>\n",
       "      <td>2013-01-01 8:26</td>\n",
       "      <td>B12551</td>\n",
       "      <td>C25132</td>\n",
       "      <td>PR8953</td>\n",
       "      <td>8</td>\n",
       "      <td>2.75</td>\n",
       "    </tr>\n",
       "    <tr>\n",
       "      <th>3</th>\n",
       "      <td>2013-01-01 8:26</td>\n",
       "      <td>B12551</td>\n",
       "      <td>C25132</td>\n",
       "      <td>PR8905</td>\n",
       "      <td>6</td>\n",
       "      <td>3.39</td>\n",
       "    </tr>\n",
       "    <tr>\n",
       "      <th>4</th>\n",
       "      <td>2013-01-01 8:26</td>\n",
       "      <td>B12551</td>\n",
       "      <td>C25132</td>\n",
       "      <td>PR8904</td>\n",
       "      <td>6</td>\n",
       "      <td>3.39</td>\n",
       "    </tr>\n",
       "  </tbody>\n",
       "</table>\n",
       "</div>"
      ],
      "text/plain": [
       "          BillDate BillNumber CustomerId ProductID  Quantity  UnitPrice\n",
       "0  2013-01-01 8:26     B12551     C25132    PR9338         6       2.55\n",
       "1  2013-01-01 8:26     B12551     C25132    PR8754         6       3.39\n",
       "2  2013-01-01 8:26     B12551     C25132    PR8953         8       2.75\n",
       "3  2013-01-01 8:26     B12551     C25132    PR8905         6       3.39\n",
       "4  2013-01-01 8:26     B12551     C25132    PR8904         6       3.39"
      ]
     },
     "execution_count": 6,
     "metadata": {},
     "output_type": "execute_result"
    }
   ],
   "source": [
    "data1=pd.read_csv(\"Train.csv\")\n",
    "data2=pd.read_csv(\"Train_Transactions.csv\")\n",
    "data3=pd.read_csv(\"Train_Demographics.csv\")\n",
    "data2.head()"
   ]
  },
  {
   "cell_type": "code",
   "execution_count": 5,
   "metadata": {},
   "outputs": [
    {
     "data": {
      "text/html": [
       "<div>\n",
       "<style scoped>\n",
       "    .dataframe tbody tr th:only-of-type {\n",
       "        vertical-align: middle;\n",
       "    }\n",
       "\n",
       "    .dataframe tbody tr th {\n",
       "        vertical-align: top;\n",
       "    }\n",
       "\n",
       "    .dataframe thead th {\n",
       "        text-align: right;\n",
       "    }\n",
       "</style>\n",
       "<table border=\"1\" class=\"dataframe\">\n",
       "  <thead>\n",
       "    <tr style=\"text-align: right;\">\n",
       "      <th></th>\n",
       "      <th>CustomerId</th>\n",
       "      <th>Total_Price</th>\n",
       "    </tr>\n",
       "    <tr>\n",
       "      <th>CustomerId</th>\n",
       "      <th></th>\n",
       "      <th></th>\n",
       "    </tr>\n",
       "  </thead>\n",
       "  <tbody>\n",
       "    <tr>\n",
       "      <th>C22981</th>\n",
       "      <td>C22981</td>\n",
       "      <td>0</td>\n",
       "    </tr>\n",
       "    <tr>\n",
       "      <th>C28576</th>\n",
       "      <td>C28576</td>\n",
       "      <td>0</td>\n",
       "    </tr>\n",
       "    <tr>\n",
       "      <th>C23809</th>\n",
       "      <td>C23809</td>\n",
       "      <td>0</td>\n",
       "    </tr>\n",
       "    <tr>\n",
       "      <th>C29339</th>\n",
       "      <td>C29339</td>\n",
       "      <td>0</td>\n",
       "    </tr>\n",
       "    <tr>\n",
       "      <th>C30598</th>\n",
       "      <td>C30598</td>\n",
       "      <td>0</td>\n",
       "    </tr>\n",
       "  </tbody>\n",
       "</table>\n",
       "</div>"
      ],
      "text/plain": [
       "           CustomerId  Total_Price\n",
       "CustomerId                        \n",
       "C22981         C22981            0\n",
       "C28576         C28576            0\n",
       "C23809         C23809            0\n",
       "C29339         C29339            0\n",
       "C30598         C30598            0"
      ]
     },
     "execution_count": 5,
     "metadata": {},
     "output_type": "execute_result"
    }
   ],
   "source": [
    "totalprice = pd.DataFrame()\n",
    "totalprice[\"CustomerId\"]=data1.CustomerId\n",
    "totalprice[\"Total_Price\"]=0\n",
    "totalprice.index=[data1.CustomerId]\n",
    "totalprice.head()"
   ]
  },
  {
   "cell_type": "markdown",
   "metadata": {},
   "source": [
    "# Feature Engineering"
   ]
  },
  {
   "cell_type": "code",
   "execution_count": 8,
   "metadata": {},
   "outputs": [
    {
     "name": "stdout",
     "output_type": "stream",
     "text": [
      "CPU times: user 28.9 ms, sys: 2.75 ms, total: 31.7 ms\n",
      "Wall time: 32.2 ms\n"
     ]
    },
    {
     "data": {
      "text/plain": [
       "(3315,)"
      ]
     },
     "execution_count": 8,
     "metadata": {},
     "output_type": "execute_result"
    }
   ],
   "source": [
    "%%time\n",
    "#calculation of total price per Customer ID, this will take sometime\n",
    "\n",
    "for i,d in enumerate(data2.CustomerId):\n",
    "    totalprice.loc[data2.iloc[i,2],\"Total_Price\"]+=(data2.iloc[i,5]*data2.iloc[i,4])\n",
    "    print(i,end=\"\\r\")\n",
    "\n",
    "    "
   ]
  },
  {
   "cell_type": "code",
   "execution_count": 568,
   "metadata": {},
   "outputs": [
    {
     "data": {
      "text/html": [
       "<div>\n",
       "<style scoped>\n",
       "    .dataframe tbody tr th:only-of-type {\n",
       "        vertical-align: middle;\n",
       "    }\n",
       "\n",
       "    .dataframe tbody tr th {\n",
       "        vertical-align: top;\n",
       "    }\n",
       "\n",
       "    .dataframe thead th {\n",
       "        text-align: right;\n",
       "    }\n",
       "</style>\n",
       "<table border=\"1\" class=\"dataframe\">\n",
       "  <thead>\n",
       "    <tr style=\"text-align: right;\">\n",
       "      <th></th>\n",
       "      <th>BillDate</th>\n",
       "      <th>BillNumber</th>\n",
       "      <th>CustomerId</th>\n",
       "      <th>ProductID</th>\n",
       "      <th>Quantity</th>\n",
       "      <th>UnitPrice</th>\n",
       "    </tr>\n",
       "  </thead>\n",
       "  <tbody>\n",
       "    <tr>\n",
       "      <th>0</th>\n",
       "      <td>2013-01-01 8:26</td>\n",
       "      <td>B12551</td>\n",
       "      <td>C25132</td>\n",
       "      <td>PR9338</td>\n",
       "      <td>6</td>\n",
       "      <td>2.55</td>\n",
       "    </tr>\n",
       "    <tr>\n",
       "      <th>1</th>\n",
       "      <td>2013-01-01 8:26</td>\n",
       "      <td>B12551</td>\n",
       "      <td>C25132</td>\n",
       "      <td>PR8754</td>\n",
       "      <td>6</td>\n",
       "      <td>3.39</td>\n",
       "    </tr>\n",
       "    <tr>\n",
       "      <th>2</th>\n",
       "      <td>2013-01-01 8:26</td>\n",
       "      <td>B12551</td>\n",
       "      <td>C25132</td>\n",
       "      <td>PR8953</td>\n",
       "      <td>8</td>\n",
       "      <td>2.75</td>\n",
       "    </tr>\n",
       "    <tr>\n",
       "      <th>3</th>\n",
       "      <td>2013-01-01 8:26</td>\n",
       "      <td>B12551</td>\n",
       "      <td>C25132</td>\n",
       "      <td>PR8905</td>\n",
       "      <td>6</td>\n",
       "      <td>3.39</td>\n",
       "    </tr>\n",
       "    <tr>\n",
       "      <th>4</th>\n",
       "      <td>2013-01-01 8:26</td>\n",
       "      <td>B12551</td>\n",
       "      <td>C25132</td>\n",
       "      <td>PR8904</td>\n",
       "      <td>6</td>\n",
       "      <td>3.39</td>\n",
       "    </tr>\n",
       "  </tbody>\n",
       "</table>\n",
       "</div>"
      ],
      "text/plain": [
       "          BillDate BillNumber CustomerId ProductID  Quantity  UnitPrice\n",
       "0  2013-01-01 8:26     B12551     C25132    PR9338         6       2.55\n",
       "1  2013-01-01 8:26     B12551     C25132    PR8754         6       3.39\n",
       "2  2013-01-01 8:26     B12551     C25132    PR8953         8       2.75\n",
       "3  2013-01-01 8:26     B12551     C25132    PR8905         6       3.39\n",
       "4  2013-01-01 8:26     B12551     C25132    PR8904         6       3.39"
      ]
     },
     "execution_count": 568,
     "metadata": {},
     "output_type": "execute_result"
    }
   ],
   "source": [
    "data2.head()"
   ]
  },
  {
   "cell_type": "code",
   "execution_count": 1112,
   "metadata": {},
   "outputs": [
    {
     "data": {
      "text/plain": [
       "<matplotlib.axes._subplots.AxesSubplot at 0x1a37a31240>"
      ]
     },
     "execution_count": 1112,
     "metadata": {},
     "output_type": "execute_result"
    },
    {
     "data": {
      "image/png": "[encoded data removed]",
      "text/plain": [
       "<Figure size 432x288 with 1 Axes>"
      ]
     },
     "metadata": {
      "needs_background": "light"
     },
     "output_type": "display_data"
    }
   ],
   "source": [
    "sns.distplot(totalprice.Total_Price)"
   ]
  },
  {
   "cell_type": "code",
   "execution_count": 1113,
   "metadata": {},
   "outputs": [],
   "source": [
    "totalprice.to_csv(\"Total_price0149.csv\")"
   ]
  },
  {
   "cell_type": "code",
   "execution_count": 1114,
   "metadata": {},
   "outputs": [
    {
     "data": {
      "text/html": [
       "<div>\n",
       "<style scoped>\n",
       "    .dataframe tbody tr th:only-of-type {\n",
       "        vertical-align: middle;\n",
       "    }\n",
       "\n",
       "    .dataframe tbody tr th {\n",
       "        vertical-align: top;\n",
       "    }\n",
       "\n",
       "    .dataframe thead th {\n",
       "        text-align: right;\n",
       "    }\n",
       "</style>\n",
       "<table border=\"1\" class=\"dataframe\">\n",
       "  <thead>\n",
       "    <tr style=\"text-align: right;\">\n",
       "      <th></th>\n",
       "      <th>Total_Price</th>\n",
       "    </tr>\n",
       "  </thead>\n",
       "  <tbody>\n",
       "    <tr>\n",
       "      <th>count</th>\n",
       "      <td>3315.000000</td>\n",
       "    </tr>\n",
       "    <tr>\n",
       "      <th>mean</th>\n",
       "      <td>2240.531161</td>\n",
       "    </tr>\n",
       "    <tr>\n",
       "      <th>std</th>\n",
       "      <td>9273.947194</td>\n",
       "    </tr>\n",
       "    <tr>\n",
       "      <th>min</th>\n",
       "      <td>2.900000</td>\n",
       "    </tr>\n",
       "    <tr>\n",
       "      <th>25%</th>\n",
       "      <td>515.610000</td>\n",
       "    </tr>\n",
       "    <tr>\n",
       "      <th>50%</th>\n",
       "      <td>859.350000</td>\n",
       "    </tr>\n",
       "    <tr>\n",
       "      <th>75%</th>\n",
       "      <td>1740.455000</td>\n",
       "    </tr>\n",
       "    <tr>\n",
       "      <th>max</th>\n",
       "      <td>268452.530000</td>\n",
       "    </tr>\n",
       "  </tbody>\n",
       "</table>\n",
       "</div>"
      ],
      "text/plain": [
       "         Total_Price\n",
       "count    3315.000000\n",
       "mean     2240.531161\n",
       "std      9273.947194\n",
       "min         2.900000\n",
       "25%       515.610000\n",
       "50%       859.350000\n",
       "75%      1740.455000\n",
       "max    268452.530000"
      ]
     },
     "execution_count": 1114,
     "metadata": {},
     "output_type": "execute_result"
    }
   ],
   "source": [
    "totalprice.describe()"
   ]
  },
  {
   "cell_type": "code",
   "execution_count": 1115,
   "metadata": {},
   "outputs": [],
   "source": [
    "totalprice1=totalprice.reset_index(drop=True)"
   ]
  },
  {
   "cell_type": "code",
   "execution_count": 1207,
   "metadata": {},
   "outputs": [],
   "source": [
    "data=pd.merge(data1,totalprice1,on=\"CustomerId\")\n",
    "data=pd.merge(data,data3,on=\"CustomerId\")"
   ]
  },
  {
   "cell_type": "code",
   "execution_count": 1208,
   "metadata": {},
   "outputs": [
    {
     "data": {
      "text/plain": [
       "(3315, 7)"
      ]
     },
     "execution_count": 1208,
     "metadata": {},
     "output_type": "execute_result"
    }
   ],
   "source": [
    "data.shape"
   ]
  },
  {
   "cell_type": "code",
   "execution_count": 1209,
   "metadata": {},
   "outputs": [],
   "source": [
    "data.to_csv(\"mergeddata1.csv\")"
   ]
  },
  {
   "cell_type": "code",
   "execution_count": 1210,
   "metadata": {},
   "outputs": [],
   "source": [
    "data[\"Age\"]=0\n",
    "for i,x in enumerate(data.DOB):\n",
    "    data.iloc[i,7]=pd.to_datetime('today').year-pd.to_datetime(data.iloc[i,3]).year\n",
    "\n",
    "\n"
   ]
  },
  {
   "cell_type": "code",
   "execution_count": 1211,
   "metadata": {},
   "outputs": [
    {
     "data": {
      "text/html": [
       "<div>\n",
       "<style scoped>\n",
       "    .dataframe tbody tr th:only-of-type {\n",
       "        vertical-align: middle;\n",
       "    }\n",
       "\n",
       "    .dataframe tbody tr th {\n",
       "        vertical-align: top;\n",
       "    }\n",
       "\n",
       "    .dataframe thead th {\n",
       "        text-align: right;\n",
       "    }\n",
       "</style>\n",
       "<table border=\"1\" class=\"dataframe\">\n",
       "  <thead>\n",
       "    <tr style=\"text-align: right;\">\n",
       "      <th></th>\n",
       "      <th>CustomerId</th>\n",
       "      <th>CustomerValue</th>\n",
       "      <th>Total_Price</th>\n",
       "      <th>DOB</th>\n",
       "      <th>gender</th>\n",
       "      <th>MaritalStatus</th>\n",
       "      <th>Familysize</th>\n",
       "      <th>Age</th>\n",
       "    </tr>\n",
       "  </thead>\n",
       "  <tbody>\n",
       "    <tr>\n",
       "      <th>0</th>\n",
       "      <td>C22981</td>\n",
       "      <td>High</td>\n",
       "      <td>1237.85</td>\n",
       "      <td>1990-11-17</td>\n",
       "      <td>F</td>\n",
       "      <td>Yes</td>\n",
       "      <td>4</td>\n",
       "      <td>29</td>\n",
       "    </tr>\n",
       "    <tr>\n",
       "      <th>1</th>\n",
       "      <td>C28576</td>\n",
       "      <td>Low</td>\n",
       "      <td>961.52</td>\n",
       "      <td>1991-08-21</td>\n",
       "      <td>F</td>\n",
       "      <td>Yes</td>\n",
       "      <td>3</td>\n",
       "      <td>28</td>\n",
       "    </tr>\n",
       "    <tr>\n",
       "      <th>2</th>\n",
       "      <td>C23809</td>\n",
       "      <td>Low</td>\n",
       "      <td>408.90</td>\n",
       "      <td>1999-12-22</td>\n",
       "      <td>F</td>\n",
       "      <td>Yes</td>\n",
       "      <td>2</td>\n",
       "      <td>20</td>\n",
       "    </tr>\n",
       "    <tr>\n",
       "      <th>3</th>\n",
       "      <td>C29339</td>\n",
       "      <td>Low</td>\n",
       "      <td>233.25</td>\n",
       "      <td>1996-03-10</td>\n",
       "      <td>M</td>\n",
       "      <td>Yes</td>\n",
       "      <td>2</td>\n",
       "      <td>23</td>\n",
       "    </tr>\n",
       "    <tr>\n",
       "      <th>4</th>\n",
       "      <td>C30598</td>\n",
       "      <td>Low</td>\n",
       "      <td>1271.06</td>\n",
       "      <td>1996-09-19</td>\n",
       "      <td>F</td>\n",
       "      <td>Yes</td>\n",
       "      <td>2</td>\n",
       "      <td>23</td>\n",
       "    </tr>\n",
       "  </tbody>\n",
       "</table>\n",
       "</div>"
      ],
      "text/plain": [
       "  CustomerId CustomerValue  Total_Price         DOB gender MaritalStatus  \\\n",
       "0     C22981          High      1237.85  1990-11-17      F           Yes   \n",
       "1     C28576           Low       961.52  1991-08-21      F           Yes   \n",
       "2     C23809           Low       408.90  1999-12-22      F           Yes   \n",
       "3     C29339           Low       233.25  1996-03-10      M           Yes   \n",
       "4     C30598           Low      1271.06  1996-09-19      F           Yes   \n",
       "\n",
       "   Familysize  Age  \n",
       "0           4   29  \n",
       "1           3   28  \n",
       "2           2   20  \n",
       "3           2   23  \n",
       "4           2   23  "
      ]
     },
     "execution_count": 1211,
     "metadata": {},
     "output_type": "execute_result"
    }
   ],
   "source": [
    "data.head()"
   ]
  },
  {
   "cell_type": "code",
   "execution_count": 1212,
   "metadata": {},
   "outputs": [],
   "source": [
    "data.drop(\"DOB\",axis=1,inplace=True)"
   ]
  },
  {
   "cell_type": "code",
   "execution_count": 1213,
   "metadata": {},
   "outputs": [
    {
     "data": {
      "text/html": [
       "<div>\n",
       "<style scoped>\n",
       "    .dataframe tbody tr th:only-of-type {\n",
       "        vertical-align: middle;\n",
       "    }\n",
       "\n",
       "    .dataframe tbody tr th {\n",
       "        vertical-align: top;\n",
       "    }\n",
       "\n",
       "    .dataframe thead th {\n",
       "        text-align: right;\n",
       "    }\n",
       "</style>\n",
       "<table border=\"1\" class=\"dataframe\">\n",
       "  <thead>\n",
       "    <tr style=\"text-align: right;\">\n",
       "      <th></th>\n",
       "      <th>CustomerId</th>\n",
       "      <th>CustomerValue</th>\n",
       "      <th>Total_Price</th>\n",
       "      <th>gender</th>\n",
       "      <th>MaritalStatus</th>\n",
       "      <th>Familysize</th>\n",
       "      <th>Age</th>\n",
       "    </tr>\n",
       "  </thead>\n",
       "  <tbody>\n",
       "    <tr>\n",
       "      <th>0</th>\n",
       "      <td>C22981</td>\n",
       "      <td>High</td>\n",
       "      <td>1237.85</td>\n",
       "      <td>F</td>\n",
       "      <td>Yes</td>\n",
       "      <td>4</td>\n",
       "      <td>29</td>\n",
       "    </tr>\n",
       "    <tr>\n",
       "      <th>1</th>\n",
       "      <td>C28576</td>\n",
       "      <td>Low</td>\n",
       "      <td>961.52</td>\n",
       "      <td>F</td>\n",
       "      <td>Yes</td>\n",
       "      <td>3</td>\n",
       "      <td>28</td>\n",
       "    </tr>\n",
       "    <tr>\n",
       "      <th>2</th>\n",
       "      <td>C23809</td>\n",
       "      <td>Low</td>\n",
       "      <td>408.90</td>\n",
       "      <td>F</td>\n",
       "      <td>Yes</td>\n",
       "      <td>2</td>\n",
       "      <td>20</td>\n",
       "    </tr>\n",
       "    <tr>\n",
       "      <th>3</th>\n",
       "      <td>C29339</td>\n",
       "      <td>Low</td>\n",
       "      <td>233.25</td>\n",
       "      <td>M</td>\n",
       "      <td>Yes</td>\n",
       "      <td>2</td>\n",
       "      <td>23</td>\n",
       "    </tr>\n",
       "    <tr>\n",
       "      <th>4</th>\n",
       "      <td>C30598</td>\n",
       "      <td>Low</td>\n",
       "      <td>1271.06</td>\n",
       "      <td>F</td>\n",
       "      <td>Yes</td>\n",
       "      <td>2</td>\n",
       "      <td>23</td>\n",
       "    </tr>\n",
       "  </tbody>\n",
       "</table>\n",
       "</div>"
      ],
      "text/plain": [
       "  CustomerId CustomerValue  Total_Price gender MaritalStatus  Familysize  Age\n",
       "0     C22981          High      1237.85      F           Yes           4   29\n",
       "1     C28576           Low       961.52      F           Yes           3   28\n",
       "2     C23809           Low       408.90      F           Yes           2   20\n",
       "3     C29339           Low       233.25      M           Yes           2   23\n",
       "4     C30598           Low      1271.06      F           Yes           2   23"
      ]
     },
     "execution_count": 1213,
     "metadata": {},
     "output_type": "execute_result"
    }
   ],
   "source": [
    "data.head()"
   ]
  },
  {
   "cell_type": "code",
   "execution_count": 1214,
   "metadata": {},
   "outputs": [
    {
     "data": {
      "text/plain": [
       "CustomerId        object\n",
       "CustomerValue     object\n",
       "Total_Price      float64\n",
       "gender            object\n",
       "MaritalStatus     object\n",
       "Familysize         int64\n",
       "Age                int64\n",
       "dtype: object"
      ]
     },
     "execution_count": 1214,
     "metadata": {},
     "output_type": "execute_result"
    }
   ],
   "source": [
    "data.dtypes"
   ]
  },
  {
   "cell_type": "markdown",
   "metadata": {},
   "source": [
    "# Lets try to get more data from transaction details \n",
    "\n",
    "Here we are trying to get the number of times a customer made a transaction at the retail store"
   ]
  },
  {
   "cell_type": "code",
   "execution_count": 1124,
   "metadata": {},
   "outputs": [
    {
     "data": {
      "text/html": [
       "<div>\n",
       "<style scoped>\n",
       "    .dataframe tbody tr th:only-of-type {\n",
       "        vertical-align: middle;\n",
       "    }\n",
       "\n",
       "    .dataframe tbody tr th {\n",
       "        vertical-align: top;\n",
       "    }\n",
       "\n",
       "    .dataframe thead th {\n",
       "        text-align: right;\n",
       "    }\n",
       "</style>\n",
       "<table border=\"1\" class=\"dataframe\">\n",
       "  <thead>\n",
       "    <tr style=\"text-align: right;\">\n",
       "      <th></th>\n",
       "      <th>BillDate</th>\n",
       "      <th>BillNumber</th>\n",
       "      <th>CustomerId</th>\n",
       "      <th>ProductID</th>\n",
       "      <th>Quantity</th>\n",
       "      <th>UnitPrice</th>\n",
       "    </tr>\n",
       "  </thead>\n",
       "  <tbody>\n",
       "    <tr>\n",
       "      <th>0</th>\n",
       "      <td>2013-01-01 08:26:00</td>\n",
       "      <td>B12551</td>\n",
       "      <td>C25132</td>\n",
       "      <td>PR9338</td>\n",
       "      <td>6</td>\n",
       "      <td>2.55</td>\n",
       "    </tr>\n",
       "    <tr>\n",
       "      <th>1</th>\n",
       "      <td>2013-01-01 08:26:00</td>\n",
       "      <td>B12551</td>\n",
       "      <td>C25132</td>\n",
       "      <td>PR8754</td>\n",
       "      <td>6</td>\n",
       "      <td>3.39</td>\n",
       "    </tr>\n",
       "    <tr>\n",
       "      <th>2</th>\n",
       "      <td>2013-01-01 08:26:00</td>\n",
       "      <td>B12551</td>\n",
       "      <td>C25132</td>\n",
       "      <td>PR8953</td>\n",
       "      <td>8</td>\n",
       "      <td>2.75</td>\n",
       "    </tr>\n",
       "    <tr>\n",
       "      <th>3</th>\n",
       "      <td>2013-01-01 08:26:00</td>\n",
       "      <td>B12551</td>\n",
       "      <td>C25132</td>\n",
       "      <td>PR8905</td>\n",
       "      <td>6</td>\n",
       "      <td>3.39</td>\n",
       "    </tr>\n",
       "    <tr>\n",
       "      <th>4</th>\n",
       "      <td>2013-01-01 08:26:00</td>\n",
       "      <td>B12551</td>\n",
       "      <td>C25132</td>\n",
       "      <td>PR8904</td>\n",
       "      <td>6</td>\n",
       "      <td>3.39</td>\n",
       "    </tr>\n",
       "  </tbody>\n",
       "</table>\n",
       "</div>"
      ],
      "text/plain": [
       "             BillDate BillNumber CustomerId ProductID  Quantity  UnitPrice\n",
       "0 2013-01-01 08:26:00     B12551     C25132    PR9338         6       2.55\n",
       "1 2013-01-01 08:26:00     B12551     C25132    PR8754         6       3.39\n",
       "2 2013-01-01 08:26:00     B12551     C25132    PR8953         8       2.75\n",
       "3 2013-01-01 08:26:00     B12551     C25132    PR8905         6       3.39\n",
       "4 2013-01-01 08:26:00     B12551     C25132    PR8904         6       3.39"
      ]
     },
     "execution_count": 1124,
     "metadata": {},
     "output_type": "execute_result"
    }
   ],
   "source": [
    "data2.head()"
   ]
  },
  {
   "cell_type": "code",
   "execution_count": 1215,
   "metadata": {},
   "outputs": [
    {
     "data": {
      "text/html": [
       "<div>\n",
       "<style scoped>\n",
       "    .dataframe tbody tr th:only-of-type {\n",
       "        vertical-align: middle;\n",
       "    }\n",
       "\n",
       "    .dataframe tbody tr th {\n",
       "        vertical-align: top;\n",
       "    }\n",
       "\n",
       "    .dataframe thead th {\n",
       "        text-align: right;\n",
       "    }\n",
       "</style>\n",
       "<table border=\"1\" class=\"dataframe\">\n",
       "  <thead>\n",
       "    <tr style=\"text-align: right;\">\n",
       "      <th></th>\n",
       "      <th>BillNumber</th>\n",
       "    </tr>\n",
       "    <tr>\n",
       "      <th>CustomerId</th>\n",
       "      <th></th>\n",
       "    </tr>\n",
       "  </thead>\n",
       "  <tbody>\n",
       "    <tr>\n",
       "      <th>C21117</th>\n",
       "      <td>[B13099, B14752, B17487, B20389, B22718, B27605]</td>\n",
       "    </tr>\n",
       "    <tr>\n",
       "      <th>C21118</th>\n",
       "      <td>[B13762, B14662, B17406, B25278]</td>\n",
       "    </tr>\n",
       "    <tr>\n",
       "      <th>C21119</th>\n",
       "      <td>[B29375]</td>\n",
       "    </tr>\n",
       "    <tr>\n",
       "      <th>C21121</th>\n",
       "      <td>[B15467, B15974, B15981, B16589, B16805, B2499...</td>\n",
       "    </tr>\n",
       "    <tr>\n",
       "      <th>C21124</th>\n",
       "      <td>[B18798]</td>\n",
       "    </tr>\n",
       "  </tbody>\n",
       "</table>\n",
       "</div>"
      ],
      "text/plain": [
       "                                                   BillNumber\n",
       "CustomerId                                                   \n",
       "C21117       [B13099, B14752, B17487, B20389, B22718, B27605]\n",
       "C21118                       [B13762, B14662, B17406, B25278]\n",
       "C21119                                               [B29375]\n",
       "C21121      [B15467, B15974, B15981, B16589, B16805, B2499...\n",
       "C21124                                               [B18798]"
      ]
     },
     "execution_count": 1215,
     "metadata": {},
     "output_type": "execute_result"
    }
   ],
   "source": [
    "billnumbers=pd.DataFrame(data2.groupby(\"CustomerId\").BillNumber.unique())\n",
    "billnumbers.head()"
   ]
  },
  {
   "cell_type": "code",
   "execution_count": 1216,
   "metadata": {},
   "outputs": [
    {
     "data": {
      "text/html": [
       "<div>\n",
       "<style scoped>\n",
       "    .dataframe tbody tr th:only-of-type {\n",
       "        vertical-align: middle;\n",
       "    }\n",
       "\n",
       "    .dataframe tbody tr th {\n",
       "        vertical-align: top;\n",
       "    }\n",
       "\n",
       "    .dataframe thead th {\n",
       "        text-align: right;\n",
       "    }\n",
       "</style>\n",
       "<table border=\"1\" class=\"dataframe\">\n",
       "  <thead>\n",
       "    <tr style=\"text-align: right;\">\n",
       "      <th></th>\n",
       "      <th>BillNumber</th>\n",
       "      <th>times</th>\n",
       "    </tr>\n",
       "    <tr>\n",
       "      <th>CustomerId</th>\n",
       "      <th></th>\n",
       "      <th></th>\n",
       "    </tr>\n",
       "  </thead>\n",
       "  <tbody>\n",
       "    <tr>\n",
       "      <th>C21117</th>\n",
       "      <td>[B13099, B14752, B17487, B20389, B22718, B27605]</td>\n",
       "      <td>6</td>\n",
       "    </tr>\n",
       "    <tr>\n",
       "      <th>C21118</th>\n",
       "      <td>[B13762, B14662, B17406, B25278]</td>\n",
       "      <td>4</td>\n",
       "    </tr>\n",
       "    <tr>\n",
       "      <th>C21119</th>\n",
       "      <td>[B29375]</td>\n",
       "      <td>1</td>\n",
       "    </tr>\n",
       "    <tr>\n",
       "      <th>C21121</th>\n",
       "      <td>[B15467, B15974, B15981, B16589, B16805, B2499...</td>\n",
       "      <td>8</td>\n",
       "    </tr>\n",
       "    <tr>\n",
       "      <th>C21124</th>\n",
       "      <td>[B18798]</td>\n",
       "      <td>1</td>\n",
       "    </tr>\n",
       "  </tbody>\n",
       "</table>\n",
       "</div>"
      ],
      "text/plain": [
       "                                                   BillNumber  times\n",
       "CustomerId                                                          \n",
       "C21117       [B13099, B14752, B17487, B20389, B22718, B27605]      6\n",
       "C21118                       [B13762, B14662, B17406, B25278]      4\n",
       "C21119                                               [B29375]      1\n",
       "C21121      [B15467, B15974, B15981, B16589, B16805, B2499...      8\n",
       "C21124                                               [B18798]      1"
      ]
     },
     "execution_count": 1216,
     "metadata": {},
     "output_type": "execute_result"
    }
   ],
   "source": [
    "billnumbers[\"times\"]=0\n",
    "for i,x in enumerate(billnumbers.times):\n",
    "    billnumbers.iloc[i,1]=len(billnumbers.iloc[i,0])\n",
    "    \n",
    "billnumbers.head()"
   ]
  },
  {
   "cell_type": "code",
   "execution_count": 1217,
   "metadata": {},
   "outputs": [
    {
     "data": {
      "text/html": [
       "<div>\n",
       "<style scoped>\n",
       "    .dataframe tbody tr th:only-of-type {\n",
       "        vertical-align: middle;\n",
       "    }\n",
       "\n",
       "    .dataframe tbody tr th {\n",
       "        vertical-align: top;\n",
       "    }\n",
       "\n",
       "    .dataframe thead th {\n",
       "        text-align: right;\n",
       "    }\n",
       "</style>\n",
       "<table border=\"1\" class=\"dataframe\">\n",
       "  <thead>\n",
       "    <tr style=\"text-align: right;\">\n",
       "      <th></th>\n",
       "      <th>BillNumber</th>\n",
       "      <th>times</th>\n",
       "    </tr>\n",
       "    <tr>\n",
       "      <th>CustomerId</th>\n",
       "      <th></th>\n",
       "      <th></th>\n",
       "    </tr>\n",
       "  </thead>\n",
       "  <tbody>\n",
       "    <tr>\n",
       "      <th>C21117</th>\n",
       "      <td>[B13099, B14752, B17487, B20389, B22718, B27605]</td>\n",
       "      <td>6</td>\n",
       "    </tr>\n",
       "    <tr>\n",
       "      <th>C21118</th>\n",
       "      <td>[B13762, B14662, B17406, B25278]</td>\n",
       "      <td>4</td>\n",
       "    </tr>\n",
       "    <tr>\n",
       "      <th>C21119</th>\n",
       "      <td>[B29375]</td>\n",
       "      <td>1</td>\n",
       "    </tr>\n",
       "    <tr>\n",
       "      <th>C21121</th>\n",
       "      <td>[B15467, B15974, B15981, B16589, B16805, B2499...</td>\n",
       "      <td>8</td>\n",
       "    </tr>\n",
       "    <tr>\n",
       "      <th>C21124</th>\n",
       "      <td>[B18798]</td>\n",
       "      <td>1</td>\n",
       "    </tr>\n",
       "  </tbody>\n",
       "</table>\n",
       "</div>"
      ],
      "text/plain": [
       "                                                   BillNumber  times\n",
       "CustomerId                                                          \n",
       "C21117       [B13099, B14752, B17487, B20389, B22718, B27605]      6\n",
       "C21118                       [B13762, B14662, B17406, B25278]      4\n",
       "C21119                                               [B29375]      1\n",
       "C21121      [B15467, B15974, B15981, B16589, B16805, B2499...      8\n",
       "C21124                                               [B18798]      1"
      ]
     },
     "execution_count": 1217,
     "metadata": {},
     "output_type": "execute_result"
    }
   ],
   "source": [
    "billnumbers.head()"
   ]
  },
  {
   "cell_type": "code",
   "execution_count": 1218,
   "metadata": {},
   "outputs": [],
   "source": [
    "data=pd.merge(data,billnumbers,on=\"CustomerId\")"
   ]
  },
  {
   "cell_type": "code",
   "execution_count": 1219,
   "metadata": {},
   "outputs": [
    {
     "data": {
      "text/html": [
       "<div>\n",
       "<style scoped>\n",
       "    .dataframe tbody tr th:only-of-type {\n",
       "        vertical-align: middle;\n",
       "    }\n",
       "\n",
       "    .dataframe tbody tr th {\n",
       "        vertical-align: top;\n",
       "    }\n",
       "\n",
       "    .dataframe thead th {\n",
       "        text-align: right;\n",
       "    }\n",
       "</style>\n",
       "<table border=\"1\" class=\"dataframe\">\n",
       "  <thead>\n",
       "    <tr style=\"text-align: right;\">\n",
       "      <th></th>\n",
       "      <th>CustomerId</th>\n",
       "      <th>CustomerValue</th>\n",
       "      <th>Total_Price</th>\n",
       "      <th>gender</th>\n",
       "      <th>MaritalStatus</th>\n",
       "      <th>Familysize</th>\n",
       "      <th>Age</th>\n",
       "      <th>BillNumber</th>\n",
       "      <th>times</th>\n",
       "    </tr>\n",
       "  </thead>\n",
       "  <tbody>\n",
       "    <tr>\n",
       "      <th>0</th>\n",
       "      <td>C22981</td>\n",
       "      <td>High</td>\n",
       "      <td>1237.85</td>\n",
       "      <td>F</td>\n",
       "      <td>Yes</td>\n",
       "      <td>4</td>\n",
       "      <td>29</td>\n",
       "      <td>[B29979, B30240]</td>\n",
       "      <td>2</td>\n",
       "    </tr>\n",
       "    <tr>\n",
       "      <th>1</th>\n",
       "      <td>C28576</td>\n",
       "      <td>Low</td>\n",
       "      <td>961.52</td>\n",
       "      <td>F</td>\n",
       "      <td>Yes</td>\n",
       "      <td>3</td>\n",
       "      <td>28</td>\n",
       "      <td>[B61358, B61518]</td>\n",
       "      <td>2</td>\n",
       "    </tr>\n",
       "    <tr>\n",
       "      <th>2</th>\n",
       "      <td>C23809</td>\n",
       "      <td>Low</td>\n",
       "      <td>408.90</td>\n",
       "      <td>F</td>\n",
       "      <td>Yes</td>\n",
       "      <td>2</td>\n",
       "      <td>20</td>\n",
       "      <td>[B20505, B27622]</td>\n",
       "      <td>2</td>\n",
       "    </tr>\n",
       "    <tr>\n",
       "      <th>3</th>\n",
       "      <td>C29339</td>\n",
       "      <td>Low</td>\n",
       "      <td>233.25</td>\n",
       "      <td>M</td>\n",
       "      <td>Yes</td>\n",
       "      <td>2</td>\n",
       "      <td>23</td>\n",
       "      <td>[B71493, B71800]</td>\n",
       "      <td>2</td>\n",
       "    </tr>\n",
       "    <tr>\n",
       "      <th>4</th>\n",
       "      <td>C30598</td>\n",
       "      <td>Low</td>\n",
       "      <td>1271.06</td>\n",
       "      <td>F</td>\n",
       "      <td>Yes</td>\n",
       "      <td>2</td>\n",
       "      <td>23</td>\n",
       "      <td>[B81614, B82113]</td>\n",
       "      <td>2</td>\n",
       "    </tr>\n",
       "  </tbody>\n",
       "</table>\n",
       "</div>"
      ],
      "text/plain": [
       "  CustomerId CustomerValue  Total_Price gender MaritalStatus  Familysize  Age  \\\n",
       "0     C22981          High      1237.85      F           Yes           4   29   \n",
       "1     C28576           Low       961.52      F           Yes           3   28   \n",
       "2     C23809           Low       408.90      F           Yes           2   20   \n",
       "3     C29339           Low       233.25      M           Yes           2   23   \n",
       "4     C30598           Low      1271.06      F           Yes           2   23   \n",
       "\n",
       "         BillNumber  times  \n",
       "0  [B29979, B30240]      2  \n",
       "1  [B61358, B61518]      2  \n",
       "2  [B20505, B27622]      2  \n",
       "3  [B71493, B71800]      2  \n",
       "4  [B81614, B82113]      2  "
      ]
     },
     "execution_count": 1219,
     "metadata": {},
     "output_type": "execute_result"
    }
   ],
   "source": [
    "data.head()"
   ]
  },
  {
   "cell_type": "code",
   "execution_count": 1220,
   "metadata": {},
   "outputs": [
    {
     "data": {
      "text/plain": [
       "(3315, 9)"
      ]
     },
     "execution_count": 1220,
     "metadata": {},
     "output_type": "execute_result"
    }
   ],
   "source": [
    "data.shape"
   ]
  },
  {
   "cell_type": "markdown",
   "metadata": {},
   "source": [
    "## The Accuracy was around 50 with the above, lets try to do better:\n",
    "## Here we will try and get the rentention i.e the date of the first transaction made and the last one"
   ]
  },
  {
   "cell_type": "code",
   "execution_count": 1221,
   "metadata": {},
   "outputs": [],
   "source": [
    "data2.BillDate=pd.to_datetime(data2.BillDate)"
   ]
  },
  {
   "cell_type": "code",
   "execution_count": 1222,
   "metadata": {},
   "outputs": [
    {
     "data": {
      "text/plain": [
       "BillDate      datetime64[ns]\n",
       "BillNumber            object\n",
       "CustomerId            object\n",
       "ProductID             object\n",
       "Quantity               int64\n",
       "UnitPrice            float64\n",
       "dtype: object"
      ]
     },
     "execution_count": 1222,
     "metadata": {},
     "output_type": "execute_result"
    }
   ],
   "source": [
    "data2.dtypes"
   ]
  },
  {
   "cell_type": "code",
   "execution_count": 1223,
   "metadata": {},
   "outputs": [
    {
     "data": {
      "text/plain": [
       "BillNumber    object\n",
       "times          int64\n",
       "dtype: object"
      ]
     },
     "execution_count": 1223,
     "metadata": {},
     "output_type": "execute_result"
    }
   ],
   "source": [
    "billnumbers.dtypes"
   ]
  },
  {
   "cell_type": "code",
   "execution_count": 1224,
   "metadata": {},
   "outputs": [],
   "source": [
    "timedelta=(data2.groupby(\"CustomerId\").BillDate.max()-data2.groupby(\"CustomerId\").BillDate.min()).astype('timedelta64[h]')\n",
    "\n",
    "timedelta=timedelta/24\n"
   ]
  },
  {
   "cell_type": "code",
   "execution_count": 1225,
   "metadata": {},
   "outputs": [],
   "source": [
    "td=pd.DataFrame(timedelta)\n",
    "td.columns=[\"retention\"]\n",
    "td.reset_index(inplace=True)"
   ]
  },
  {
   "cell_type": "code",
   "execution_count": 1226,
   "metadata": {},
   "outputs": [
    {
     "data": {
      "text/html": [
       "<div>\n",
       "<style scoped>\n",
       "    .dataframe tbody tr th:only-of-type {\n",
       "        vertical-align: middle;\n",
       "    }\n",
       "\n",
       "    .dataframe tbody tr th {\n",
       "        vertical-align: top;\n",
       "    }\n",
       "\n",
       "    .dataframe thead th {\n",
       "        text-align: right;\n",
       "    }\n",
       "</style>\n",
       "<table border=\"1\" class=\"dataframe\">\n",
       "  <thead>\n",
       "    <tr style=\"text-align: right;\">\n",
       "      <th></th>\n",
       "      <th>CustomerId</th>\n",
       "      <th>retention</th>\n",
       "    </tr>\n",
       "  </thead>\n",
       "  <tbody>\n",
       "    <tr>\n",
       "      <th>0</th>\n",
       "      <td>C21117</td>\n",
       "      <td>296.875000</td>\n",
       "    </tr>\n",
       "    <tr>\n",
       "      <th>1</th>\n",
       "      <td>C21118</td>\n",
       "      <td>282.750000</td>\n",
       "    </tr>\n",
       "    <tr>\n",
       "      <th>2</th>\n",
       "      <td>C21119</td>\n",
       "      <td>0.000000</td>\n",
       "    </tr>\n",
       "    <tr>\n",
       "      <th>3</th>\n",
       "      <td>C21121</td>\n",
       "      <td>260.083333</td>\n",
       "    </tr>\n",
       "    <tr>\n",
       "      <th>4</th>\n",
       "      <td>C21124</td>\n",
       "      <td>0.000000</td>\n",
       "    </tr>\n",
       "  </tbody>\n",
       "</table>\n",
       "</div>"
      ],
      "text/plain": [
       "  CustomerId   retention\n",
       "0     C21117  296.875000\n",
       "1     C21118  282.750000\n",
       "2     C21119    0.000000\n",
       "3     C21121  260.083333\n",
       "4     C21124    0.000000"
      ]
     },
     "execution_count": 1226,
     "metadata": {},
     "output_type": "execute_result"
    }
   ],
   "source": [
    "td.head()"
   ]
  },
  {
   "cell_type": "code",
   "execution_count": 1227,
   "metadata": {},
   "outputs": [
    {
     "data": {
      "text/html": [
       "<div>\n",
       "<style scoped>\n",
       "    .dataframe tbody tr th:only-of-type {\n",
       "        vertical-align: middle;\n",
       "    }\n",
       "\n",
       "    .dataframe tbody tr th {\n",
       "        vertical-align: top;\n",
       "    }\n",
       "\n",
       "    .dataframe thead th {\n",
       "        text-align: right;\n",
       "    }\n",
       "</style>\n",
       "<table border=\"1\" class=\"dataframe\">\n",
       "  <thead>\n",
       "    <tr style=\"text-align: right;\">\n",
       "      <th></th>\n",
       "      <th>CustomerId</th>\n",
       "      <th>CustomerValue</th>\n",
       "      <th>Total_Price</th>\n",
       "      <th>gender</th>\n",
       "      <th>MaritalStatus</th>\n",
       "      <th>Familysize</th>\n",
       "      <th>Age</th>\n",
       "      <th>BillNumber</th>\n",
       "      <th>times</th>\n",
       "      <th>retention</th>\n",
       "    </tr>\n",
       "  </thead>\n",
       "  <tbody>\n",
       "    <tr>\n",
       "      <th>0</th>\n",
       "      <td>C22981</td>\n",
       "      <td>High</td>\n",
       "      <td>1237.85</td>\n",
       "      <td>F</td>\n",
       "      <td>Yes</td>\n",
       "      <td>4</td>\n",
       "      <td>29</td>\n",
       "      <td>[B29979, B30240]</td>\n",
       "      <td>2</td>\n",
       "      <td>2.041667</td>\n",
       "    </tr>\n",
       "    <tr>\n",
       "      <th>1</th>\n",
       "      <td>C28576</td>\n",
       "      <td>Low</td>\n",
       "      <td>961.52</td>\n",
       "      <td>F</td>\n",
       "      <td>Yes</td>\n",
       "      <td>3</td>\n",
       "      <td>28</td>\n",
       "      <td>[B61358, B61518]</td>\n",
       "      <td>2</td>\n",
       "      <td>162.875000</td>\n",
       "    </tr>\n",
       "    <tr>\n",
       "      <th>2</th>\n",
       "      <td>C23809</td>\n",
       "      <td>Low</td>\n",
       "      <td>408.90</td>\n",
       "      <td>F</td>\n",
       "      <td>Yes</td>\n",
       "      <td>2</td>\n",
       "      <td>20</td>\n",
       "      <td>[B20505, B27622]</td>\n",
       "      <td>2</td>\n",
       "      <td>110.000000</td>\n",
       "    </tr>\n",
       "    <tr>\n",
       "      <th>3</th>\n",
       "      <td>C29339</td>\n",
       "      <td>Low</td>\n",
       "      <td>233.25</td>\n",
       "      <td>M</td>\n",
       "      <td>Yes</td>\n",
       "      <td>2</td>\n",
       "      <td>23</td>\n",
       "      <td>[B71493, B71800]</td>\n",
       "      <td>2</td>\n",
       "      <td>185.791667</td>\n",
       "    </tr>\n",
       "    <tr>\n",
       "      <th>4</th>\n",
       "      <td>C30598</td>\n",
       "      <td>Low</td>\n",
       "      <td>1271.06</td>\n",
       "      <td>F</td>\n",
       "      <td>Yes</td>\n",
       "      <td>2</td>\n",
       "      <td>23</td>\n",
       "      <td>[B81614, B82113]</td>\n",
       "      <td>2</td>\n",
       "      <td>341.916667</td>\n",
       "    </tr>\n",
       "  </tbody>\n",
       "</table>\n",
       "</div>"
      ],
      "text/plain": [
       "  CustomerId CustomerValue  Total_Price gender MaritalStatus  Familysize  Age  \\\n",
       "0     C22981          High      1237.85      F           Yes           4   29   \n",
       "1     C28576           Low       961.52      F           Yes           3   28   \n",
       "2     C23809           Low       408.90      F           Yes           2   20   \n",
       "3     C29339           Low       233.25      M           Yes           2   23   \n",
       "4     C30598           Low      1271.06      F           Yes           2   23   \n",
       "\n",
       "         BillNumber  times   retention  \n",
       "0  [B29979, B30240]      2    2.041667  \n",
       "1  [B61358, B61518]      2  162.875000  \n",
       "2  [B20505, B27622]      2  110.000000  \n",
       "3  [B71493, B71800]      2  185.791667  \n",
       "4  [B81614, B82113]      2  341.916667  "
      ]
     },
     "execution_count": 1227,
     "metadata": {},
     "output_type": "execute_result"
    }
   ],
   "source": [
    "data=pd.merge(data,td,on=\"CustomerId\")\n",
    "data.head()"
   ]
  },
  {
   "cell_type": "code",
   "execution_count": 1228,
   "metadata": {},
   "outputs": [],
   "source": [
    "data.drop(\"CustomerId\",axis=1,inplace=True)\n",
    "data.drop(\"BillNumber\",axis=1,inplace=True)"
   ]
  },
  {
   "cell_type": "code",
   "execution_count": 1229,
   "metadata": {},
   "outputs": [
    {
     "data": {
      "text/plain": [
       "CustomerValue    category\n",
       "Total_Price       float64\n",
       "gender           category\n",
       "MaritalStatus    category\n",
       "Familysize       category\n",
       "Age                 int64\n",
       "times               int64\n",
       "retention         float64\n",
       "dtype: object"
      ]
     },
     "execution_count": 1229,
     "metadata": {},
     "output_type": "execute_result"
    }
   ],
   "source": [
    "#Type Conversions\n",
    "data.CustomerValue=data.CustomerValue.astype(\"category\")\n",
    "data.gender=data.gender.astype(\"category\")\n",
    "data.Familysize=data.Familysize.astype(\"category\")\n",
    "data.MaritalStatus=data.MaritalStatus.astype(\"category\")\n",
    "data.dtypes"
   ]
  },
  {
   "cell_type": "markdown",
   "metadata": {},
   "source": [
    "# Exploratory Analysis"
   ]
  },
  {
   "cell_type": "code",
   "execution_count": 1230,
   "metadata": {},
   "outputs": [
    {
     "data": {
      "text/plain": [
       "<matplotlib.axes._subplots.AxesSubplot at 0x1a3afd3320>"
      ]
     },
     "execution_count": 1230,
     "metadata": {},
     "output_type": "execute_result"
    },
    {
     "data": {
      "image/png": "[encoded data removed]",
      "text/plain": [
       "<Figure size 432x288 with 1 Axes>"
      ]
     },
     "metadata": {
      "needs_background": "light"
     },
     "output_type": "display_data"
    }
   ],
   "source": [
    "sns.distplot(data.Age)"
   ]
  },
  {
   "cell_type": "code",
   "execution_count": 1231,
   "metadata": {},
   "outputs": [
    {
     "data": {
      "text/plain": [
       "<matplotlib.axes._subplots.AxesSubplot at 0x1a3ad48e80>"
      ]
     },
     "execution_count": 1231,
     "metadata": {},
     "output_type": "execute_result"
    },
    {
     "data": {
      "image/png": "[encoded data removed]",
      "text/plain": [
       "<Figure size 432x288 with 1 Axes>"
      ]
     },
     "metadata": {
      "needs_background": "light"
     },
     "output_type": "display_data"
    }
   ],
   "source": [
    "#checking whether we can see a pattern between age and customer value\n",
    "data.groupby(\"CustomerValue\").Age.mean().sort_values(ascending=False).plot.bar()"
   ]
  },
  {
   "cell_type": "markdown",
   "metadata": {},
   "source": [
    "From the above we dont notice any pattern"
   ]
  },
  {
   "cell_type": "code",
   "execution_count": 1232,
   "metadata": {},
   "outputs": [
    {
     "data": {
      "text/plain": [
       "<matplotlib.axes._subplots.AxesSubplot at 0x1a3ad5a7b8>"
      ]
     },
     "execution_count": 1232,
     "metadata": {},
     "output_type": "execute_result"
    },
    {
     "data": {
      "image/png": "[encoded data removed]",
      "text/plain": [
       "<Figure size 432x288 with 1 Axes>"
      ]
     },
     "metadata": {
      "needs_background": "light"
     },
     "output_type": "display_data"
    }
   ],
   "source": [
    "#checking whether we can see a pattern between Total_amount spent and customer value.\n",
    "data.groupby(\"CustomerValue\").Total_Price.mean().sort_values(ascending=False).plot.bar()"
   ]
  },
  {
   "cell_type": "markdown",
   "metadata": {},
   "source": [
    "From the above we can see that amount spent has direct correlation with Customer Value"
   ]
  },
  {
   "cell_type": "code",
   "execution_count": 1233,
   "metadata": {},
   "outputs": [
    {
     "data": {
      "text/plain": [
       "<matplotlib.axes._subplots.AxesSubplot at 0x1a3a832080>"
      ]
     },
     "execution_count": 1233,
     "metadata": {},
     "output_type": "execute_result"
    },
    {
     "data": {
      "image/png": "[encoded data removed]",
      "text/plain": [
       "<Figure size 432x288 with 1 Axes>"
      ]
     },
     "metadata": {
      "needs_background": "light"
     },
     "output_type": "display_data"
    }
   ],
   "source": [
    "data[data.CustomerValue==\"High\"].groupby(\"MaritalStatus\").MaritalStatus.count().plot.bar()"
   ]
  },
  {
   "cell_type": "markdown",
   "metadata": {},
   "source": [
    "### From the above we can see that its Marital Status is Highly Important to having a High Customer Value "
   ]
  },
  {
   "cell_type": "code",
   "execution_count": 1300,
   "metadata": {},
   "outputs": [
    {
     "data": {
      "text/plain": [
       "<matplotlib.axes._subplots.AxesSubplot at 0x1a3cb9c390>"
      ]
     },
     "execution_count": 1300,
     "metadata": {},
     "output_type": "execute_result"
    },
    {
     "data": {
      "image/png": "[encoded data removed]",
      "text/plain": [
       "<Figure size 432x288 with 1 Axes>"
      ]
     },
     "metadata": {
      "needs_background": "light"
     },
     "output_type": "display_data"
    }
   ],
   "source": [
    "data[data.CustomerValue==\"High\"].groupby(\"Familysize\").Familysize.count().plot.bar()"
   ]
  },
  {
   "cell_type": "markdown",
   "metadata": {},
   "source": [
    "### We can see that the number of members in a family are also very important for making a decision on whether the customer is of high value or not "
   ]
  },
  {
   "cell_type": "code",
   "execution_count": 1235,
   "metadata": {},
   "outputs": [
    {
     "data": {
      "text/plain": [
       "CustomerValue    0\n",
       "Total_Price      0\n",
       "gender           0\n",
       "MaritalStatus    0\n",
       "Familysize       0\n",
       "Age              0\n",
       "times            0\n",
       "retention        0\n",
       "dtype: int64"
      ]
     },
     "execution_count": 1235,
     "metadata": {},
     "output_type": "execute_result"
    }
   ],
   "source": [
    "data.isnull().sum()"
   ]
  },
  {
   "cell_type": "code",
   "execution_count": 1236,
   "metadata": {},
   "outputs": [],
   "source": [
    "data.to_csv(\"databeforebinning.csv\",index=False)"
   ]
  },
  {
   "cell_type": "markdown",
   "metadata": {},
   "source": [
    "# Binning the Age"
   ]
  },
  {
   "cell_type": "code",
   "execution_count": 1268,
   "metadata": {},
   "outputs": [
    {
     "data": {
      "text/html": [
       "<div>\n",
       "<style scoped>\n",
       "    .dataframe tbody tr th:only-of-type {\n",
       "        vertical-align: middle;\n",
       "    }\n",
       "\n",
       "    .dataframe tbody tr th {\n",
       "        vertical-align: top;\n",
       "    }\n",
       "\n",
       "    .dataframe thead th {\n",
       "        text-align: right;\n",
       "    }\n",
       "</style>\n",
       "<table border=\"1\" class=\"dataframe\">\n",
       "  <thead>\n",
       "    <tr style=\"text-align: right;\">\n",
       "      <th></th>\n",
       "      <th>CustomerValue</th>\n",
       "      <th>Total_Price</th>\n",
       "      <th>gender</th>\n",
       "      <th>MaritalStatus</th>\n",
       "      <th>Familysize</th>\n",
       "      <th>Age</th>\n",
       "      <th>times</th>\n",
       "      <th>retention</th>\n",
       "    </tr>\n",
       "  </thead>\n",
       "  <tbody>\n",
       "    <tr>\n",
       "      <th>0</th>\n",
       "      <td>High</td>\n",
       "      <td>1237.85</td>\n",
       "      <td>F</td>\n",
       "      <td>Yes</td>\n",
       "      <td>4</td>\n",
       "      <td>25-35</td>\n",
       "      <td>2</td>\n",
       "      <td>2.041667</td>\n",
       "    </tr>\n",
       "    <tr>\n",
       "      <th>1</th>\n",
       "      <td>Low</td>\n",
       "      <td>961.52</td>\n",
       "      <td>F</td>\n",
       "      <td>Yes</td>\n",
       "      <td>3</td>\n",
       "      <td>25-35</td>\n",
       "      <td>2</td>\n",
       "      <td>162.875000</td>\n",
       "    </tr>\n",
       "    <tr>\n",
       "      <th>2</th>\n",
       "      <td>Low</td>\n",
       "      <td>408.90</td>\n",
       "      <td>F</td>\n",
       "      <td>Yes</td>\n",
       "      <td>2</td>\n",
       "      <td>0-25</td>\n",
       "      <td>2</td>\n",
       "      <td>110.000000</td>\n",
       "    </tr>\n",
       "  </tbody>\n",
       "</table>\n",
       "</div>"
      ],
      "text/plain": [
       "  CustomerValue  Total_Price gender MaritalStatus Familysize    Age  times  \\\n",
       "0          High      1237.85      F           Yes          4  25-35      2   \n",
       "1           Low       961.52      F           Yes          3  25-35      2   \n",
       "2           Low       408.90      F           Yes          2   0-25      2   \n",
       "\n",
       "    retention  \n",
       "0    2.041667  \n",
       "1  162.875000  \n",
       "2  110.000000  "
      ]
     },
     "execution_count": 1268,
     "metadata": {},
     "output_type": "execute_result"
    }
   ],
   "source": [
    "bins = [0,25,35,45,60,100]\n",
    "\n",
    "group_names = ['0-25', '25-35', '35-45', '45-60',\"60-100\"]\n",
    "\n",
    "data['Age'] = pd.cut(data['Age'], bins, labels=group_names)\n",
    "\n",
    "data.head(3)"
   ]
  },
  {
   "cell_type": "code",
   "execution_count": 1269,
   "metadata": {},
   "outputs": [
    {
     "data": {
      "text/plain": [
       "<matplotlib.axes._subplots.AxesSubplot at 0x1a3bcc13c8>"
      ]
     },
     "execution_count": 1269,
     "metadata": {},
     "output_type": "execute_result"
    },
    {
     "data": {
      "image/png": "[encoded data removed]",
      "text/plain": [
       "<Figure size 432x288 with 1 Axes>"
      ]
     },
     "metadata": {
      "needs_background": "light"
     },
     "output_type": "display_data"
    }
   ],
   "source": [
    "data.groupby(\"Age\").Age.count().plot.bar()"
   ]
  },
  {
   "cell_type": "code",
   "execution_count": 1270,
   "metadata": {},
   "outputs": [
    {
     "data": {
      "text/plain": [
       "CustomerValue    category\n",
       "Total_Price       float64\n",
       "gender           category\n",
       "MaritalStatus    category\n",
       "Familysize       category\n",
       "Age              category\n",
       "times               int64\n",
       "retention         float64\n",
       "dtype: object"
      ]
     },
     "execution_count": 1270,
     "metadata": {},
     "output_type": "execute_result"
    }
   ],
   "source": [
    "data.dtypes"
   ]
  },
  {
   "cell_type": "markdown",
   "metadata": {},
   "source": [
    "# Splitting the Data"
   ]
  },
  {
   "cell_type": "code",
   "execution_count": 1271,
   "metadata": {},
   "outputs": [],
   "source": [
    "X_train,X_test,Y_train,Y_test=train_test_split(data.iloc[:,1:],data[\"CustomerValue\"],test_size=0.3,random_state=2345)"
   ]
  },
  {
   "cell_type": "code",
   "execution_count": 1272,
   "metadata": {},
   "outputs": [
    {
     "data": {
      "text/html": [
       "<div>\n",
       "<style scoped>\n",
       "    .dataframe tbody tr th:only-of-type {\n",
       "        vertical-align: middle;\n",
       "    }\n",
       "\n",
       "    .dataframe tbody tr th {\n",
       "        vertical-align: top;\n",
       "    }\n",
       "\n",
       "    .dataframe thead th {\n",
       "        text-align: right;\n",
       "    }\n",
       "</style>\n",
       "<table border=\"1\" class=\"dataframe\">\n",
       "  <thead>\n",
       "    <tr style=\"text-align: right;\">\n",
       "      <th></th>\n",
       "      <th>Total_Price</th>\n",
       "      <th>times</th>\n",
       "      <th>retention</th>\n",
       "    </tr>\n",
       "  </thead>\n",
       "  <tbody>\n",
       "    <tr>\n",
       "      <th>667</th>\n",
       "      <td>1238.47</td>\n",
       "      <td>2</td>\n",
       "      <td>102.875</td>\n",
       "    </tr>\n",
       "    <tr>\n",
       "      <th>2057</th>\n",
       "      <td>223.58</td>\n",
       "      <td>1</td>\n",
       "      <td>0.000</td>\n",
       "    </tr>\n",
       "  </tbody>\n",
       "</table>\n",
       "</div>"
      ],
      "text/plain": [
       "      Total_Price  times  retention\n",
       "667       1238.47      2    102.875\n",
       "2057       223.58      1      0.000"
      ]
     },
     "execution_count": 1272,
     "metadata": {},
     "output_type": "execute_result"
    }
   ],
   "source": [
    "X_train_num=X_train.select_dtypes(include=['int16', 'int32', 'int64', 'float16', 'float32', 'float64'])\n",
    "X_test_num=X_test.select_dtypes(include=['int16', 'int32', 'int64', 'float16', 'float32', 'float64'])\n",
    "X_train_cat=X_train.select_dtypes(include=[\"category\"])\n",
    "X_test_cat=X_test.select_dtypes(include=[\"category\"])\n",
    "X_train_num.head(2)"
   ]
  },
  {
   "cell_type": "code",
   "execution_count": 1273,
   "metadata": {},
   "outputs": [
    {
     "data": {
      "text/plain": [
       "(2320, 3)"
      ]
     },
     "execution_count": 1273,
     "metadata": {},
     "output_type": "execute_result"
    }
   ],
   "source": [
    "from sklearn.preprocessing import StandardScaler\n",
    "scaler = StandardScaler()\n",
    "scaler.fit(X_train_num)\n",
    "X_trainstand=pd.DataFrame(scaler.transform(X_train_num),columns=X_train_num.columns)\n",
    "X_teststand=pd.DataFrame(scaler.transform(X_test_num),columns=X_test_num.columns)\n",
    "X_trainstand.shape"
   ]
  },
  {
   "cell_type": "code",
   "execution_count": 1274,
   "metadata": {},
   "outputs": [
    {
     "data": {
      "text/html": [
       "<div>\n",
       "<style scoped>\n",
       "    .dataframe tbody tr th:only-of-type {\n",
       "        vertical-align: middle;\n",
       "    }\n",
       "\n",
       "    .dataframe tbody tr th {\n",
       "        vertical-align: top;\n",
       "    }\n",
       "\n",
       "    .dataframe thead th {\n",
       "        text-align: right;\n",
       "    }\n",
       "</style>\n",
       "<table border=\"1\" class=\"dataframe\">\n",
       "  <thead>\n",
       "    <tr style=\"text-align: right;\">\n",
       "      <th></th>\n",
       "      <th>gender_M</th>\n",
       "      <th>MaritalStatus_Yes</th>\n",
       "      <th>Familysize_2</th>\n",
       "      <th>Familysize_3</th>\n",
       "      <th>Familysize_4</th>\n",
       "      <th>Age_25-35</th>\n",
       "      <th>Age_35-45</th>\n",
       "      <th>Age_45-60</th>\n",
       "      <th>Age_60-100</th>\n",
       "    </tr>\n",
       "  </thead>\n",
       "  <tbody>\n",
       "    <tr>\n",
       "      <th>667</th>\n",
       "      <td>1</td>\n",
       "      <td>1</td>\n",
       "      <td>0</td>\n",
       "      <td>0</td>\n",
       "      <td>1</td>\n",
       "      <td>0</td>\n",
       "      <td>0</td>\n",
       "      <td>0</td>\n",
       "      <td>1</td>\n",
       "    </tr>\n",
       "    <tr>\n",
       "      <th>2057</th>\n",
       "      <td>0</td>\n",
       "      <td>1</td>\n",
       "      <td>0</td>\n",
       "      <td>0</td>\n",
       "      <td>1</td>\n",
       "      <td>0</td>\n",
       "      <td>0</td>\n",
       "      <td>1</td>\n",
       "      <td>0</td>\n",
       "    </tr>\n",
       "    <tr>\n",
       "      <th>1633</th>\n",
       "      <td>1</td>\n",
       "      <td>1</td>\n",
       "      <td>0</td>\n",
       "      <td>0</td>\n",
       "      <td>1</td>\n",
       "      <td>0</td>\n",
       "      <td>0</td>\n",
       "      <td>0</td>\n",
       "      <td>1</td>\n",
       "    </tr>\n",
       "    <tr>\n",
       "      <th>942</th>\n",
       "      <td>1</td>\n",
       "      <td>1</td>\n",
       "      <td>1</td>\n",
       "      <td>0</td>\n",
       "      <td>0</td>\n",
       "      <td>1</td>\n",
       "      <td>0</td>\n",
       "      <td>0</td>\n",
       "      <td>0</td>\n",
       "    </tr>\n",
       "    <tr>\n",
       "      <th>2515</th>\n",
       "      <td>0</td>\n",
       "      <td>1</td>\n",
       "      <td>0</td>\n",
       "      <td>0</td>\n",
       "      <td>1</td>\n",
       "      <td>0</td>\n",
       "      <td>0</td>\n",
       "      <td>1</td>\n",
       "      <td>0</td>\n",
       "    </tr>\n",
       "  </tbody>\n",
       "</table>\n",
       "</div>"
      ],
      "text/plain": [
       "      gender_M  MaritalStatus_Yes  Familysize_2  Familysize_3  Familysize_4  \\\n",
       "667          1                  1             0             0             1   \n",
       "2057         0                  1             0             0             1   \n",
       "1633         1                  1             0             0             1   \n",
       "942          1                  1             1             0             0   \n",
       "2515         0                  1             0             0             1   \n",
       "\n",
       "      Age_25-35  Age_35-45  Age_45-60  Age_60-100  \n",
       "667           0          0          0           1  \n",
       "2057          0          0          1           0  \n",
       "1633          0          0          0           1  \n",
       "942           1          0          0           0  \n",
       "2515          0          0          1           0  "
      ]
     },
     "execution_count": 1274,
     "metadata": {},
     "output_type": "execute_result"
    }
   ],
   "source": [
    "d=pd.get_dummies(X_train_cat,drop_first=True)\n",
    "d.shape\n",
    "dt=pd.get_dummies(X_test_cat,drop_first=True)\n",
    "d.head()"
   ]
  },
  {
   "cell_type": "code",
   "execution_count": 1275,
   "metadata": {},
   "outputs": [],
   "source": [
    "d.reset_index(drop=True,inplace=True)\n",
    "dt.reset_index(drop=True,inplace=True)"
   ]
  },
  {
   "cell_type": "code",
   "execution_count": 1276,
   "metadata": {},
   "outputs": [
    {
     "data": {
      "text/html": [
       "<div>\n",
       "<style scoped>\n",
       "    .dataframe tbody tr th:only-of-type {\n",
       "        vertical-align: middle;\n",
       "    }\n",
       "\n",
       "    .dataframe tbody tr th {\n",
       "        vertical-align: top;\n",
       "    }\n",
       "\n",
       "    .dataframe thead th {\n",
       "        text-align: right;\n",
       "    }\n",
       "</style>\n",
       "<table border=\"1\" class=\"dataframe\">\n",
       "  <thead>\n",
       "    <tr style=\"text-align: right;\">\n",
       "      <th></th>\n",
       "      <th>Total_Price</th>\n",
       "      <th>times</th>\n",
       "      <th>retention</th>\n",
       "      <th>gender_M</th>\n",
       "      <th>MaritalStatus_Yes</th>\n",
       "      <th>Familysize_2</th>\n",
       "      <th>Familysize_3</th>\n",
       "      <th>Familysize_4</th>\n",
       "      <th>Age_25-35</th>\n",
       "      <th>Age_35-45</th>\n",
       "      <th>Age_45-60</th>\n",
       "      <th>Age_60-100</th>\n",
       "    </tr>\n",
       "  </thead>\n",
       "  <tbody>\n",
       "    <tr>\n",
       "      <th>0</th>\n",
       "      <td>-0.107848</td>\n",
       "      <td>-0.322581</td>\n",
       "      <td>-0.897432</td>\n",
       "      <td>1</td>\n",
       "      <td>1</td>\n",
       "      <td>0</td>\n",
       "      <td>0</td>\n",
       "      <td>1</td>\n",
       "      <td>0</td>\n",
       "      <td>0</td>\n",
       "      <td>0</td>\n",
       "      <td>1</td>\n",
       "    </tr>\n",
       "    <tr>\n",
       "      <th>1</th>\n",
       "      <td>-0.204925</td>\n",
       "      <td>-0.465485</td>\n",
       "      <td>-1.856651</td>\n",
       "      <td>0</td>\n",
       "      <td>1</td>\n",
       "      <td>0</td>\n",
       "      <td>0</td>\n",
       "      <td>1</td>\n",
       "      <td>0</td>\n",
       "      <td>0</td>\n",
       "      <td>1</td>\n",
       "      <td>0</td>\n",
       "    </tr>\n",
       "    <tr>\n",
       "      <th>2</th>\n",
       "      <td>-0.130760</td>\n",
       "      <td>-0.036773</td>\n",
       "      <td>-0.533014</td>\n",
       "      <td>1</td>\n",
       "      <td>1</td>\n",
       "      <td>0</td>\n",
       "      <td>0</td>\n",
       "      <td>1</td>\n",
       "      <td>0</td>\n",
       "      <td>0</td>\n",
       "      <td>0</td>\n",
       "      <td>1</td>\n",
       "    </tr>\n",
       "    <tr>\n",
       "      <th>3</th>\n",
       "      <td>-0.178847</td>\n",
       "      <td>-0.179677</td>\n",
       "      <td>1.211763</td>\n",
       "      <td>1</td>\n",
       "      <td>1</td>\n",
       "      <td>1</td>\n",
       "      <td>0</td>\n",
       "      <td>0</td>\n",
       "      <td>1</td>\n",
       "      <td>0</td>\n",
       "      <td>0</td>\n",
       "      <td>0</td>\n",
       "    </tr>\n",
       "    <tr>\n",
       "      <th>4</th>\n",
       "      <td>-0.200235</td>\n",
       "      <td>-0.322581</td>\n",
       "      <td>-1.228827</td>\n",
       "      <td>0</td>\n",
       "      <td>1</td>\n",
       "      <td>0</td>\n",
       "      <td>0</td>\n",
       "      <td>1</td>\n",
       "      <td>0</td>\n",
       "      <td>0</td>\n",
       "      <td>1</td>\n",
       "      <td>0</td>\n",
       "    </tr>\n",
       "  </tbody>\n",
       "</table>\n",
       "</div>"
      ],
      "text/plain": [
       "   Total_Price     times  retention  gender_M  MaritalStatus_Yes  \\\n",
       "0    -0.107848 -0.322581  -0.897432         1                  1   \n",
       "1    -0.204925 -0.465485  -1.856651         0                  1   \n",
       "2    -0.130760 -0.036773  -0.533014         1                  1   \n",
       "3    -0.178847 -0.179677   1.211763         1                  1   \n",
       "4    -0.200235 -0.322581  -1.228827         0                  1   \n",
       "\n",
       "   Familysize_2  Familysize_3  Familysize_4  Age_25-35  Age_35-45  Age_45-60  \\\n",
       "0             0             0             1          0          0          0   \n",
       "1             0             0             1          0          0          1   \n",
       "2             0             0             1          0          0          0   \n",
       "3             1             0             0          1          0          0   \n",
       "4             0             0             1          0          0          1   \n",
       "\n",
       "   Age_60-100  \n",
       "0           1  \n",
       "1           0  \n",
       "2           1  \n",
       "3           0  \n",
       "4           0  "
      ]
     },
     "execution_count": 1276,
     "metadata": {},
     "output_type": "execute_result"
    }
   ],
   "source": [
    "X_train_processed=pd.merge(X_trainstand,d,left_index=True,right_index=True)\n",
    "X_test_processed=pd.merge(X_teststand,dt,left_index=True,right_index=True)\n",
    "\n",
    "X_train_processed.head()"
   ]
  },
  {
   "cell_type": "code",
   "execution_count": 1277,
   "metadata": {},
   "outputs": [
    {
     "data": {
      "text/plain": [
       "(2320, 12)"
      ]
     },
     "execution_count": 1277,
     "metadata": {},
     "output_type": "execute_result"
    }
   ],
   "source": [
    "X_train_processed.shape"
   ]
  },
  {
   "cell_type": "markdown",
   "metadata": {},
   "source": [
    "# KNN"
   ]
  },
  {
   "cell_type": "code",
   "execution_count": 1278,
   "metadata": {},
   "outputs": [
    {
     "name": "stdout",
     "output_type": "stream",
     "text": [
      "Accuracy: 0.8030150753768844\n",
      "Error: 0.2\n"
     ]
    }
   ],
   "source": [
    "from sklearn.neighbors import KNeighborsClassifier \n",
    "from sklearn.metrics import confusion_matrix, classification_report\n",
    "# Let's build a 13-D KNN\n",
    "knn_classifier = KNeighborsClassifier(n_neighbors=3,weights=\"distance\",algorithm=\"brute\")\n",
    "knn_classifier.fit(X_train_processed, Y_train)\n",
    "pred_test = knn_classifier.predict(X_test_processed)\n",
    "cm_test = confusion_matrix(y_pred=pred_test, y_true=Y_test)\n",
    "print(\"Accuracy:\", sum(np.diag(cm_test))/np.sum(cm_test))\n",
    "print(\"Error:\", np.round(1-sum(np.diag(cm_test))/np.sum(cm_test),2))\n",
    "# Can you possibly, at best get an accuracy of 99% or an error of 1% with this data, using any other model?\n",
    "# Why/Why not?"
   ]
  },
  {
   "cell_type": "code",
   "execution_count": 1279,
   "metadata": {},
   "outputs": [
    {
     "name": "stdout",
     "output_type": "stream",
     "text": [
      "[0.20502512562814068, 0.22512562814070347, 0.18391959798994972, 0.19396984924623117, 0.19195979899497484, 0.19798994974874373, 0.1989949748743719, 0.2160804020100503, 0.21206030150753774, 0.21407035175879396, 0.2160804020100503, 0.2331658291457287, 0.22211055276381908, 0.23115577889447236]\n"
     ]
    }
   ],
   "source": [
    "from sklearn.metrics import accuracy_score\n",
    "from sklearn.metrics import recall_score\n",
    "from sklearn.metrics import precision_score\n",
    "# try K=1 through K=25 and record testing accuracy\n",
    "k_range = range(1, 15, 1)\n",
    "\n",
    "# We can create Python dictionary using [] or dict()\n",
    "err = []\n",
    "k_val = []\n",
    "\n",
    "# We use a loop through the range 1 to 26\n",
    "# We append the scores in the dictionary\n",
    "for k in k_range:\n",
    "    knn = KNeighborsClassifier(n_neighbors=k)\n",
    "    knn.fit(X_train_processed, Y_train)\n",
    "    y_pred = knn.predict(X_test_processed)\n",
    "    err.append(1-accuracy_score(Y_test, y_pred))\n",
    "    k_val.append(k)\n",
    "\n",
    "print(err)"
   ]
  },
  {
   "cell_type": "code",
   "execution_count": 1301,
   "metadata": {},
   "outputs": [
    {
     "data": {
      "text/plain": [
       "Text(0, 0.5, 'Error on test data')"
      ]
     },
     "execution_count": 1301,
     "metadata": {},
     "output_type": "execute_result"
    },
    {
     "data": {
      "image/png": "[encoded data removed]",
      "text/plain": [
       "<Figure size 1080x360 with 1 Axes>"
      ]
     },
     "metadata": {
      "needs_background": "light"
     },
     "output_type": "display_data"
    }
   ],
   "source": [
    "import matplotlib.pyplot as plt\n",
    "plt.figure(figsize=(15,5))\n",
    "\n",
    "\n",
    "plt.subplot(1,2,2)\n",
    "plt.plot(k_range, err)\n",
    "plt.xlabel('Value of K for KNN')\n",
    "plt.ylabel('Error on test data')"
   ]
  },
  {
   "cell_type": "markdown",
   "metadata": {},
   "source": [
    "# Decision Tree Classifier"
   ]
  },
  {
   "cell_type": "code",
   "execution_count": 1308,
   "metadata": {},
   "outputs": [
    {
     "data": {
      "text/plain": [
       "DecisionTreeClassifier(class_weight=None, criterion='gini', max_depth=7,\n",
       "                       max_features=None, max_leaf_nodes=None,\n",
       "                       min_impurity_decrease=0.0, min_impurity_split=None,\n",
       "                       min_samples_leaf=1, min_samples_split=2,\n",
       "                       min_weight_fraction_leaf=0.0, presort=False,\n",
       "                       random_state=None, splitter='best')"
      ]
     },
     "execution_count": 1308,
     "metadata": {},
     "output_type": "execute_result"
    }
   ],
   "source": [
    "from sklearn.tree import DecisionTreeClassifier\n",
    "dt=DecisionTreeClassifier(max_depth=7)\n",
    "dt.fit(X_train_processed, Y_train)"
   ]
  },
  {
   "cell_type": "code",
   "execution_count": 1309,
   "metadata": {},
   "outputs": [],
   "source": [
    "y_pred=dt.predict(X_train_processed)\n",
    "y_pred_test=dt.predict(X_test_processed)"
   ]
  },
  {
   "cell_type": "code",
   "execution_count": 1310,
   "metadata": {},
   "outputs": [
    {
     "name": "stdout",
     "output_type": "stream",
     "text": [
      "Accuracy for Train set:\n",
      "0.9099137931034482\n",
      "Accuracy for Test set:\n",
      "0.8623115577889447\n",
      "\n",
      "\n"
     ]
    }
   ],
   "source": [
    "\n",
    "print(\"Accuracy for Train set:\")\n",
    "print(accuracy_score(Y_train,y_pred))\n",
    "\n",
    "\n",
    "print(\"Accuracy for Test set:\")\n",
    "print(accuracy_score(Y_test,y_pred_test))\n",
    "\n",
    "print(\"\\n\")\n",
    "\n",
    "\n"
   ]
  },
  {
   "cell_type": "markdown",
   "metadata": {},
   "source": [
    "# Random Forest "
   ]
  },
  {
   "cell_type": "code",
   "execution_count": 1311,
   "metadata": {},
   "outputs": [
    {
     "data": {
      "text/plain": [
       "RandomForestClassifier(bootstrap=True, class_weight=None, criterion='gini',\n",
       "                       max_depth=8, max_features='auto', max_leaf_nodes=None,\n",
       "                       min_impurity_decrease=0.0, min_impurity_split=None,\n",
       "                       min_samples_leaf=1, min_samples_split=2,\n",
       "                       min_weight_fraction_leaf=0.0, n_estimators=9,\n",
       "                       n_jobs=None, oob_score=False, random_state=1244,\n",
       "                       verbose=0, warm_start=False)"
      ]
     },
     "execution_count": 1311,
     "metadata": {},
     "output_type": "execute_result"
    }
   ],
   "source": [
    "from sklearn.ensemble import RandomForestClassifier\n",
    "clf = RandomForestClassifier(n_estimators=9,max_depth=8,criterion=\"gini\",random_state=1244)\n",
    "clf.fit(X=X_train_processed, y=Y_train)"
   ]
  },
  {
   "cell_type": "code",
   "execution_count": 1312,
   "metadata": {},
   "outputs": [],
   "source": [
    "y_pred=clf.predict(X_train_processed)\n",
    "y_pred_test=clf.predict(X_test_processed)"
   ]
  },
  {
   "cell_type": "code",
   "execution_count": 1313,
   "metadata": {},
   "outputs": [
    {
     "name": "stdout",
     "output_type": "stream",
     "text": [
      "Accuracy for Train set:\n",
      "0.9064655172413794\n",
      "Accuracy for Test set:\n",
      "0.8562814070351759\n",
      "\n",
      "\n"
     ]
    }
   ],
   "source": [
    "\n",
    "print(\"Accuracy for Train set:\")\n",
    "print(accuracy_score(Y_train,y_pred))\n",
    "\n",
    "\n",
    "print(\"Accuracy for Test set:\")\n",
    "print(accuracy_score(Y_test,y_pred_test))\n",
    "\n",
    "print(\"\\n\")\n",
    "\n"
   ]
  },
  {
   "cell_type": "code",
   "execution_count": 1287,
   "metadata": {},
   "outputs": [
    {
     "name": "stdout",
     "output_type": "stream",
     "text": [
      "[ 4  8  6 11  3 10  7  9  5  0  2  1]\n"
     ]
    }
   ],
   "source": [
    "importances = clf.feature_importances_\n",
    "indices = np.argsort(importances)\n",
    "print(indices)"
   ]
  },
  {
   "cell_type": "code",
   "execution_count": 1288,
   "metadata": {},
   "outputs": [
    {
     "name": "stdout",
     "output_type": "stream",
     "text": [
      "[ 1  2  0  5  9  7 10  3 11  6  8  4]\n"
     ]
    },
    {
     "data": {
      "text/html": [
       "<div>\n",
       "<style scoped>\n",
       "    .dataframe tbody tr th:only-of-type {\n",
       "        vertical-align: middle;\n",
       "    }\n",
       "\n",
       "    .dataframe tbody tr th {\n",
       "        vertical-align: top;\n",
       "    }\n",
       "\n",
       "    .dataframe thead th {\n",
       "        text-align: right;\n",
       "    }\n",
       "</style>\n",
       "<table border=\"1\" class=\"dataframe\">\n",
       "  <thead>\n",
       "    <tr style=\"text-align: right;\">\n",
       "      <th></th>\n",
       "      <th>0</th>\n",
       "      <th>1</th>\n",
       "      <th>2</th>\n",
       "      <th>3</th>\n",
       "      <th>4</th>\n",
       "      <th>5</th>\n",
       "      <th>6</th>\n",
       "      <th>7</th>\n",
       "      <th>8</th>\n",
       "      <th>9</th>\n",
       "      <th>10</th>\n",
       "      <th>11</th>\n",
       "    </tr>\n",
       "  </thead>\n",
       "  <tbody>\n",
       "    <tr>\n",
       "      <th>0</th>\n",
       "      <td>times</td>\n",
       "      <td>retention</td>\n",
       "      <td>Total_Price</td>\n",
       "      <td>Familysize_2</td>\n",
       "      <td>Age_35-45</td>\n",
       "      <td>Familysize_4</td>\n",
       "      <td>Age_45-60</td>\n",
       "      <td>gender_M</td>\n",
       "      <td>Age_60-100</td>\n",
       "      <td>Familysize_3</td>\n",
       "      <td>Age_25-35</td>\n",
       "      <td>MaritalStatus_Yes</td>\n",
       "    </tr>\n",
       "    <tr>\n",
       "      <th>1</th>\n",
       "      <td>0.417626</td>\n",
       "      <td>0.371083</td>\n",
       "      <td>0.10464</td>\n",
       "      <td>0.0282545</td>\n",
       "      <td>0.0259989</td>\n",
       "      <td>0.0198942</td>\n",
       "      <td>0.00992663</td>\n",
       "      <td>0.00737723</td>\n",
       "      <td>0.00528917</td>\n",
       "      <td>0.0048507</td>\n",
       "      <td>0.00326724</td>\n",
       "      <td>0.00179266</td>\n",
       "    </tr>\n",
       "  </tbody>\n",
       "</table>\n",
       "</div>"
      ],
      "text/plain": [
       "         0          1            2             3          4             5   \\\n",
       "0     times  retention  Total_Price  Familysize_2  Age_35-45  Familysize_4   \n",
       "1  0.417626   0.371083      0.10464     0.0282545  0.0259989     0.0198942   \n",
       "\n",
       "           6           7           8             9           10  \\\n",
       "0   Age_45-60    gender_M  Age_60-100  Familysize_3   Age_25-35   \n",
       "1  0.00992663  0.00737723  0.00528917     0.0048507  0.00326724   \n",
       "\n",
       "                  11  \n",
       "0  MaritalStatus_Yes  \n",
       "1         0.00179266  "
      ]
     },
     "execution_count": 1288,
     "metadata": {},
     "output_type": "execute_result"
    }
   ],
   "source": [
    "indices1 = np.argsort(importances)[::-1]\n",
    "print(indices1)\n",
    "pd.DataFrame([X_train_processed.columns[indices1],np.sort(importances)[::-1]])"
   ]
  },
  {
   "cell_type": "code",
   "execution_count": 1289,
   "metadata": {},
   "outputs": [
    {
     "data": {
      "image/png": "[encoded data removed]",
      "text/plain": [
       "<Figure size 432x288 with 1 Axes>"
      ]
     },
     "metadata": {
      "needs_background": "light"
     },
     "output_type": "display_data"
    }
   ],
   "source": [
    "import matplotlib.pyplot as plt\n",
    "%matplotlib inline\n",
    "features = X_train_processed.columns\n",
    "\n",
    "plt.title('Feature Importances')\n",
    "plt.barh(range(len(indices)),importances[indices], color='b')\n",
    "plt.yticks(range(len(indices)), [features[i] for i in indices])\n",
    "plt.xlabel('Relative Importance')\n",
    "plt.show()"
   ]
  },
  {
   "cell_type": "markdown",
   "metadata": {},
   "source": [
    "# Cross Validation For RF"
   ]
  },
  {
   "cell_type": "code",
   "execution_count": 1290,
   "metadata": {},
   "outputs": [
    {
     "data": {
      "text/plain": [
       "RandomForestClassifier(bootstrap=True, class_weight=None, criterion='gini',\n",
       "                       max_depth=10, max_features='auto', max_leaf_nodes=None,\n",
       "                       min_impurity_decrease=0.0, min_impurity_split=None,\n",
       "                       min_samples_leaf=1, min_samples_split=2,\n",
       "                       min_weight_fraction_leaf=0.0, n_estimators=13, n_jobs=-1,\n",
       "                       oob_score=False, random_state=None, verbose=0,\n",
       "                       warm_start=False)"
      ]
     },
     "execution_count": 1290,
     "metadata": {},
     "output_type": "execute_result"
    }
   ],
   "source": [
    "#GridSearch\n",
    "from sklearn.model_selection import GridSearchCV\n",
    "\n",
    "clf = RandomForestClassifier(n_jobs=-1)\n",
    " \n",
    "# Use a grid over parameters of interest\n",
    "param_grid = {\n",
    "     'n_estimators': [11,13,15,17],\n",
    "     'max_depth':[7,8,9,10]\n",
    "}\n",
    "\n",
    "CV_clf = GridSearchCV(estimator=clf, param_grid=param_grid, cv= 5)\n",
    "CV_clf.fit(X=X_train_processed, y=Y_train)\n",
    "CV_clf.best_estimator_\n"
   ]
  },
  {
   "cell_type": "code",
   "execution_count": 1291,
   "metadata": {},
   "outputs": [],
   "source": [
    "y_pred=CV_clf.predict(X_train_processed)\n",
    "y_pred_test=CV_clf.predict(X_test_processed)"
   ]
  },
  {
   "cell_type": "code",
   "execution_count": 1292,
   "metadata": {},
   "outputs": [
    {
     "name": "stdout",
     "output_type": "stream",
     "text": [
      "Accuracy for Train set:\n",
      "0.9370689655172414\n",
      "Accuracy for Test set:\n",
      "0.8683417085427135\n",
      "\n",
      "\n"
     ]
    }
   ],
   "source": [
    "\n",
    "print(\"Accuracy for Train set:\")\n",
    "print(accuracy_score(Y_train,y_pred))\n",
    "\n",
    "\n",
    "print(\"Accuracy for Test set:\")\n",
    "print(accuracy_score(Y_test,y_pred_test))\n",
    "\n",
    "print(\"\\n\")\n"
   ]
  },
  {
   "cell_type": "markdown",
   "metadata": {},
   "source": [
    "# XGBoost"
   ]
  },
  {
   "cell_type": "code",
   "execution_count": 1293,
   "metadata": {},
   "outputs": [
    {
     "data": {
      "text/plain": [
       "XGBClassifier(base_score=0.5, booster='gbtree', colsample_bylevel=1,\n",
       "              colsample_bynode=1, colsample_bytree=1, gamma=0,\n",
       "              learning_rate=0.05, max_delta_step=0, max_depth=5,\n",
       "              min_child_weight=1, missing=None, n_estimators=100, n_jobs=1,\n",
       "              nthread=None, objective='multi:softprob', random_state=3456,\n",
       "              reg_alpha=0.1, reg_lambda=0.9, scale_pos_weight=1, seed=None,\n",
       "              silent=None, subsample=1, verbosity=1)"
      ]
     },
     "execution_count": 1293,
     "metadata": {},
     "output_type": "execute_result"
    }
   ],
   "source": [
    "#XGBoost\n",
    "from xgboost import XGBClassifier\n",
    "XGB_model = XGBClassifier(max_depth=5,learning_rate=0.05,reg_alpha=0.1,reg_lambda=0.9,random_state=3456)\n",
    "XGB_model.fit(X_train_processed, Y_train)"
   ]
  },
  {
   "cell_type": "code",
   "execution_count": 1294,
   "metadata": {},
   "outputs": [],
   "source": [
    "y_pred=XGB_model.predict(X_train_processed)\n",
    "y_pred_test=XGB_model.predict(X_test_processed)"
   ]
  },
  {
   "cell_type": "code",
   "execution_count": 1326,
   "metadata": {},
   "outputs": [
    {
     "data": {
      "text/plain": [
       "XGBClassifier(base_score=0.5, booster='gbtree', colsample_bylevel=1,\n",
       "              colsample_bynode=1, colsample_bytree=1, gamma=0,\n",
       "              learning_rate=0.08, max_delta_step=0, max_depth=5,\n",
       "              min_child_weight=1, missing=None, n_estimators=100, n_jobs=-1,\n",
       "              nthread=None, objective='multi:softprob', random_state=0,\n",
       "              reg_alpha=0, reg_aplha=0.1, reg_lambda=0.4, scale_pos_weight=1,\n",
       "              seed=None, silent=None, subsample=1, verbosity=1)"
      ]
     },
     "execution_count": 1326,
     "metadata": {},
     "output_type": "execute_result"
    }
   ],
   "source": [
    "#GridSearch\n",
    "from sklearn.model_selection import GridSearchCV\n",
    "\n",
    "XGB = XGBClassifier(n_jobs=-1)\n",
    " \n",
    "# Using a grid over parameters of interest\n",
    "param_grid = {\n",
    "     'learning_rate': [0.08],\n",
    "     'reg_aplha':[0.1,0.05],\n",
    "     'reg_lambda':[0.7,0.4],\n",
    "     'max_depth':[5,7]\n",
    "}\n",
    "\n",
    "CV_clf = GridSearchCV(estimator=XGB, param_grid=param_grid, cv= 5)\n",
    "CV_clf.fit(X=X_train_processed, y=Y_train)\n",
    "CV_clf.best_estimator_"
   ]
  },
  {
   "cell_type": "code",
   "execution_count": 1327,
   "metadata": {},
   "outputs": [
    {
     "data": {
      "text/html": [
       "<div>\n",
       "<style scoped>\n",
       "    .dataframe tbody tr th:only-of-type {\n",
       "        vertical-align: middle;\n",
       "    }\n",
       "\n",
       "    .dataframe tbody tr th {\n",
       "        vertical-align: top;\n",
       "    }\n",
       "\n",
       "    .dataframe thead th {\n",
       "        text-align: right;\n",
       "    }\n",
       "</style>\n",
       "<table border=\"1\" class=\"dataframe\">\n",
       "  <thead>\n",
       "    <tr style=\"text-align: right;\">\n",
       "      <th></th>\n",
       "      <th>Total_Price</th>\n",
       "      <th>times</th>\n",
       "      <th>retention</th>\n",
       "      <th>gender_M</th>\n",
       "      <th>MaritalStatus_Yes</th>\n",
       "      <th>Familysize_2</th>\n",
       "      <th>Familysize_3</th>\n",
       "      <th>Familysize_4</th>\n",
       "      <th>Age_25-35</th>\n",
       "      <th>Age_35-45</th>\n",
       "      <th>Age_45-60</th>\n",
       "      <th>Age_60-100</th>\n",
       "    </tr>\n",
       "  </thead>\n",
       "  <tbody>\n",
       "    <tr>\n",
       "      <th>0</th>\n",
       "      <td>-0.107848</td>\n",
       "      <td>-0.322581</td>\n",
       "      <td>-0.897432</td>\n",
       "      <td>1</td>\n",
       "      <td>1</td>\n",
       "      <td>0</td>\n",
       "      <td>0</td>\n",
       "      <td>1</td>\n",
       "      <td>0</td>\n",
       "      <td>0</td>\n",
       "      <td>0</td>\n",
       "      <td>1</td>\n",
       "    </tr>\n",
       "    <tr>\n",
       "      <th>1</th>\n",
       "      <td>-0.204925</td>\n",
       "      <td>-0.465485</td>\n",
       "      <td>-1.856651</td>\n",
       "      <td>0</td>\n",
       "      <td>1</td>\n",
       "      <td>0</td>\n",
       "      <td>0</td>\n",
       "      <td>1</td>\n",
       "      <td>0</td>\n",
       "      <td>0</td>\n",
       "      <td>1</td>\n",
       "      <td>0</td>\n",
       "    </tr>\n",
       "    <tr>\n",
       "      <th>2</th>\n",
       "      <td>-0.130760</td>\n",
       "      <td>-0.036773</td>\n",
       "      <td>-0.533014</td>\n",
       "      <td>1</td>\n",
       "      <td>1</td>\n",
       "      <td>0</td>\n",
       "      <td>0</td>\n",
       "      <td>1</td>\n",
       "      <td>0</td>\n",
       "      <td>0</td>\n",
       "      <td>0</td>\n",
       "      <td>1</td>\n",
       "    </tr>\n",
       "    <tr>\n",
       "      <th>3</th>\n",
       "      <td>-0.178847</td>\n",
       "      <td>-0.179677</td>\n",
       "      <td>1.211763</td>\n",
       "      <td>1</td>\n",
       "      <td>1</td>\n",
       "      <td>1</td>\n",
       "      <td>0</td>\n",
       "      <td>0</td>\n",
       "      <td>1</td>\n",
       "      <td>0</td>\n",
       "      <td>0</td>\n",
       "      <td>0</td>\n",
       "    </tr>\n",
       "    <tr>\n",
       "      <th>4</th>\n",
       "      <td>-0.200235</td>\n",
       "      <td>-0.322581</td>\n",
       "      <td>-1.228827</td>\n",
       "      <td>0</td>\n",
       "      <td>1</td>\n",
       "      <td>0</td>\n",
       "      <td>0</td>\n",
       "      <td>1</td>\n",
       "      <td>0</td>\n",
       "      <td>0</td>\n",
       "      <td>1</td>\n",
       "      <td>0</td>\n",
       "    </tr>\n",
       "  </tbody>\n",
       "</table>\n",
       "</div>"
      ],
      "text/plain": [
       "   Total_Price     times  retention  gender_M  MaritalStatus_Yes  \\\n",
       "0    -0.107848 -0.322581  -0.897432         1                  1   \n",
       "1    -0.204925 -0.465485  -1.856651         0                  1   \n",
       "2    -0.130760 -0.036773  -0.533014         1                  1   \n",
       "3    -0.178847 -0.179677   1.211763         1                  1   \n",
       "4    -0.200235 -0.322581  -1.228827         0                  1   \n",
       "\n",
       "   Familysize_2  Familysize_3  Familysize_4  Age_25-35  Age_35-45  Age_45-60  \\\n",
       "0             0             0             1          0          0          0   \n",
       "1             0             0             1          0          0          1   \n",
       "2             0             0             1          0          0          0   \n",
       "3             1             0             0          1          0          0   \n",
       "4             0             0             1          0          0          1   \n",
       "\n",
       "   Age_60-100  \n",
       "0           1  \n",
       "1           0  \n",
       "2           1  \n",
       "3           0  \n",
       "4           0  "
      ]
     },
     "execution_count": 1327,
     "metadata": {},
     "output_type": "execute_result"
    }
   ],
   "source": [
    "X_train_processed.head()"
   ]
  },
  {
   "cell_type": "code",
   "execution_count": 1328,
   "metadata": {},
   "outputs": [],
   "source": [
    "y_pred=CV_clf.predict(X_train_processed)\n",
    "y_pred_test=CV_clf.predict(X_test_processed)"
   ]
  },
  {
   "cell_type": "code",
   "execution_count": 1329,
   "metadata": {},
   "outputs": [
    {
     "name": "stdout",
     "output_type": "stream",
     "text": [
      "Accuracy for Train set:\n",
      "0.9426724137931034\n",
      "Accuracy for Test set:\n",
      "0.8884422110552764\n",
      "\n",
      "\n"
     ]
    }
   ],
   "source": [
    "\n",
    "print(\"Accuracy for Train set:\")\n",
    "print(accuracy_score(Y_train,y_pred))\n",
    "\n",
    "\n",
    "print(\"Accuracy for Test set:\")\n",
    "print(accuracy_score(Y_test,y_pred_test))\n",
    "\n",
    "print(\"\\n\")\n"
   ]
  },
  {
   "cell_type": "markdown",
   "metadata": {},
   "source": [
    "# Prediction on Test Data "
   ]
  },
  {
   "cell_type": "code",
   "execution_count": 1348,
   "metadata": {},
   "outputs": [
    {
     "data": {
      "text/plain": [
       "(940, 1)"
      ]
     },
     "execution_count": 1348,
     "metadata": {},
     "output_type": "execute_result"
    }
   ],
   "source": [
    "data_test1=pd.read_csv(\"Test.csv\")\n",
    "data_test2=pd.read_csv(\"Test_Transactions.csv\")\n",
    "data_test3=pd.read_csv(\"Test_Demographics.csv\")\n",
    "data_test1.shape"
   ]
  },
  {
   "cell_type": "code",
   "execution_count": 1349,
   "metadata": {},
   "outputs": [
    {
     "data": {
      "text/html": [
       "<div>\n",
       "<style scoped>\n",
       "    .dataframe tbody tr th:only-of-type {\n",
       "        vertical-align: middle;\n",
       "    }\n",
       "\n",
       "    .dataframe tbody tr th {\n",
       "        vertical-align: top;\n",
       "    }\n",
       "\n",
       "    .dataframe thead th {\n",
       "        text-align: right;\n",
       "    }\n",
       "</style>\n",
       "<table border=\"1\" class=\"dataframe\">\n",
       "  <thead>\n",
       "    <tr style=\"text-align: right;\">\n",
       "      <th></th>\n",
       "      <th>CustomerId</th>\n",
       "      <th>Total_Price</th>\n",
       "    </tr>\n",
       "    <tr>\n",
       "      <th>CustomerId</th>\n",
       "      <th></th>\n",
       "      <th></th>\n",
       "    </tr>\n",
       "  </thead>\n",
       "  <tbody>\n",
       "    <tr>\n",
       "      <th>C21116</th>\n",
       "      <td>C21116</td>\n",
       "      <td>0</td>\n",
       "    </tr>\n",
       "    <tr>\n",
       "      <th>C21123</th>\n",
       "      <td>C21123</td>\n",
       "      <td>0</td>\n",
       "    </tr>\n",
       "    <tr>\n",
       "      <th>C21126</th>\n",
       "      <td>C21126</td>\n",
       "      <td>0</td>\n",
       "    </tr>\n",
       "    <tr>\n",
       "      <th>C21142</th>\n",
       "      <td>C21142</td>\n",
       "      <td>0</td>\n",
       "    </tr>\n",
       "    <tr>\n",
       "      <th>C21152</th>\n",
       "      <td>C21152</td>\n",
       "      <td>0</td>\n",
       "    </tr>\n",
       "  </tbody>\n",
       "</table>\n",
       "</div>"
      ],
      "text/plain": [
       "           CustomerId  Total_Price\n",
       "CustomerId                        \n",
       "C21116         C21116            0\n",
       "C21123         C21123            0\n",
       "C21126         C21126            0\n",
       "C21142         C21142            0\n",
       "C21152         C21152            0"
      ]
     },
     "execution_count": 1349,
     "metadata": {},
     "output_type": "execute_result"
    }
   ],
   "source": [
    "totalpricetest = pd.DataFrame()\n",
    "totalpricetest[\"CustomerId\"]=data_test1.CustomerId\n",
    "totalpricetest[\"Total_Price\"]=0\n",
    "totalpricetest.index=[data_test1.CustomerId]\n",
    "totalpricetest.head()"
   ]
  },
  {
   "cell_type": "code",
   "execution_count": 1350,
   "metadata": {},
   "outputs": [
    {
     "name": "stdout",
     "output_type": "stream",
     "text": [
      "CPU times: user 4min 17s, sys: 28 s, total: 4min 45s\n",
      "Wall time: 4min 43s\n"
     ]
    }
   ],
   "source": [
    "%%time\n",
    "#calculation of total price per Customer ID, this will take sometime\n",
    "\n",
    "for i,d in enumerate(data_test2.CustomerId):\n",
    "    totalpricetest.loc[data_test2.iloc[i,2],\"Total_Price\"]+=(data_test2.iloc[i,5]*data_test2.iloc[i,4])\n",
    "    print(i,end=\"\\r\")\n",
    "    "
   ]
  },
  {
   "cell_type": "code",
   "execution_count": 1351,
   "metadata": {},
   "outputs": [],
   "source": [
    "totalpricetest1=totalpricetest.reset_index(drop=True)"
   ]
  },
  {
   "cell_type": "code",
   "execution_count": 1352,
   "metadata": {},
   "outputs": [
    {
     "data": {
      "text/html": [
       "<div>\n",
       "<style scoped>\n",
       "    .dataframe tbody tr th:only-of-type {\n",
       "        vertical-align: middle;\n",
       "    }\n",
       "\n",
       "    .dataframe tbody tr th {\n",
       "        vertical-align: top;\n",
       "    }\n",
       "\n",
       "    .dataframe thead th {\n",
       "        text-align: right;\n",
       "    }\n",
       "</style>\n",
       "<table border=\"1\" class=\"dataframe\">\n",
       "  <thead>\n",
       "    <tr style=\"text-align: right;\">\n",
       "      <th></th>\n",
       "      <th>CustomerId</th>\n",
       "      <th>Total_Price</th>\n",
       "      <th>DOB</th>\n",
       "      <th>gender</th>\n",
       "      <th>MaritalStatus</th>\n",
       "      <th>Familysize</th>\n",
       "    </tr>\n",
       "  </thead>\n",
       "  <tbody>\n",
       "    <tr>\n",
       "      <th>0</th>\n",
       "      <td>C21116</td>\n",
       "      <td>77183.60</td>\n",
       "      <td>1963-12-19</td>\n",
       "      <td>M</td>\n",
       "      <td>Yes</td>\n",
       "      <td>4</td>\n",
       "    </tr>\n",
       "    <tr>\n",
       "      <th>1</th>\n",
       "      <td>C21123</td>\n",
       "      <td>1079.40</td>\n",
       "      <td>1943-03-12</td>\n",
       "      <td>M</td>\n",
       "      <td>Yes</td>\n",
       "      <td>4</td>\n",
       "    </tr>\n",
       "    <tr>\n",
       "      <th>2</th>\n",
       "      <td>C21126</td>\n",
       "      <td>6207.67</td>\n",
       "      <td>1998-08-27</td>\n",
       "      <td>F</td>\n",
       "      <td>Yes</td>\n",
       "      <td>2</td>\n",
       "    </tr>\n",
       "    <tr>\n",
       "      <th>3</th>\n",
       "      <td>C21142</td>\n",
       "      <td>1628.12</td>\n",
       "      <td>1946-04-23</td>\n",
       "      <td>F</td>\n",
       "      <td>Yes</td>\n",
       "      <td>4</td>\n",
       "    </tr>\n",
       "    <tr>\n",
       "      <th>4</th>\n",
       "      <td>C21152</td>\n",
       "      <td>452.36</td>\n",
       "      <td>1978-02-02</td>\n",
       "      <td>M</td>\n",
       "      <td>Yes</td>\n",
       "      <td>4</td>\n",
       "    </tr>\n",
       "  </tbody>\n",
       "</table>\n",
       "</div>"
      ],
      "text/plain": [
       "  CustomerId  Total_Price         DOB gender MaritalStatus  Familysize\n",
       "0     C21116     77183.60  1963-12-19      M           Yes           4\n",
       "1     C21123      1079.40  1943-03-12      M           Yes           4\n",
       "2     C21126      6207.67  1998-08-27      F           Yes           2\n",
       "3     C21142      1628.12  1946-04-23      F           Yes           4\n",
       "4     C21152       452.36  1978-02-02      M           Yes           4"
      ]
     },
     "execution_count": 1352,
     "metadata": {},
     "output_type": "execute_result"
    }
   ],
   "source": [
    "finald=pd.merge(data_test1,totalpricetest1,on=\"CustomerId\")\n",
    "finald=pd.merge(finald,data_test3,on=\"CustomerId\")\n",
    "finald.head()\n",
    "\n"
   ]
  },
  {
   "cell_type": "code",
   "execution_count": 1353,
   "metadata": {},
   "outputs": [],
   "source": [
    "finald[\"Age\"]=0\n",
    "for i,x in enumerate(finald.DOB):\n",
    "    finald.iloc[i,6]=pd.to_datetime('today').year-pd.to_datetime(finald.iloc[i,2]).year\n",
    "\n"
   ]
  },
  {
   "cell_type": "code",
   "execution_count": 1354,
   "metadata": {},
   "outputs": [
    {
     "data": {
      "text/html": [
       "<div>\n",
       "<style scoped>\n",
       "    .dataframe tbody tr th:only-of-type {\n",
       "        vertical-align: middle;\n",
       "    }\n",
       "\n",
       "    .dataframe tbody tr th {\n",
       "        vertical-align: top;\n",
       "    }\n",
       "\n",
       "    .dataframe thead th {\n",
       "        text-align: right;\n",
       "    }\n",
       "</style>\n",
       "<table border=\"1\" class=\"dataframe\">\n",
       "  <thead>\n",
       "    <tr style=\"text-align: right;\">\n",
       "      <th></th>\n",
       "      <th>CustomerId</th>\n",
       "      <th>Total_Price</th>\n",
       "      <th>DOB</th>\n",
       "      <th>gender</th>\n",
       "      <th>MaritalStatus</th>\n",
       "      <th>Familysize</th>\n",
       "      <th>Age</th>\n",
       "    </tr>\n",
       "  </thead>\n",
       "  <tbody>\n",
       "    <tr>\n",
       "      <th>0</th>\n",
       "      <td>C21116</td>\n",
       "      <td>77183.60</td>\n",
       "      <td>1963-12-19</td>\n",
       "      <td>M</td>\n",
       "      <td>Yes</td>\n",
       "      <td>4</td>\n",
       "      <td>56</td>\n",
       "    </tr>\n",
       "    <tr>\n",
       "      <th>1</th>\n",
       "      <td>C21123</td>\n",
       "      <td>1079.40</td>\n",
       "      <td>1943-03-12</td>\n",
       "      <td>M</td>\n",
       "      <td>Yes</td>\n",
       "      <td>4</td>\n",
       "      <td>76</td>\n",
       "    </tr>\n",
       "    <tr>\n",
       "      <th>2</th>\n",
       "      <td>C21126</td>\n",
       "      <td>6207.67</td>\n",
       "      <td>1998-08-27</td>\n",
       "      <td>F</td>\n",
       "      <td>Yes</td>\n",
       "      <td>2</td>\n",
       "      <td>21</td>\n",
       "    </tr>\n",
       "    <tr>\n",
       "      <th>3</th>\n",
       "      <td>C21142</td>\n",
       "      <td>1628.12</td>\n",
       "      <td>1946-04-23</td>\n",
       "      <td>F</td>\n",
       "      <td>Yes</td>\n",
       "      <td>4</td>\n",
       "      <td>73</td>\n",
       "    </tr>\n",
       "    <tr>\n",
       "      <th>4</th>\n",
       "      <td>C21152</td>\n",
       "      <td>452.36</td>\n",
       "      <td>1978-02-02</td>\n",
       "      <td>M</td>\n",
       "      <td>Yes</td>\n",
       "      <td>4</td>\n",
       "      <td>41</td>\n",
       "    </tr>\n",
       "  </tbody>\n",
       "</table>\n",
       "</div>"
      ],
      "text/plain": [
       "  CustomerId  Total_Price         DOB gender MaritalStatus  Familysize  Age\n",
       "0     C21116     77183.60  1963-12-19      M           Yes           4   56\n",
       "1     C21123      1079.40  1943-03-12      M           Yes           4   76\n",
       "2     C21126      6207.67  1998-08-27      F           Yes           2   21\n",
       "3     C21142      1628.12  1946-04-23      F           Yes           4   73\n",
       "4     C21152       452.36  1978-02-02      M           Yes           4   41"
      ]
     },
     "execution_count": 1354,
     "metadata": {},
     "output_type": "execute_result"
    }
   ],
   "source": [
    "finald.head()"
   ]
  },
  {
   "cell_type": "code",
   "execution_count": 1355,
   "metadata": {},
   "outputs": [],
   "source": [
    "finald.drop(\"DOB\",axis=1,inplace=True)\n",
    "\n",
    "billnumbers=pd.DataFrame(data_test2.groupby(\"CustomerId\").BillNumber.unique())\n",
    "billnumbers.head()\n",
    "\n",
    "billnumbers[\"times\"]=0\n",
    "for i,x in enumerate(billnumbers.times):\n",
    "    billnumbers.iloc[i,1]=len(billnumbers.iloc[i,0])\n",
    "    \n",
    "billnumbers.head()\n",
    "\n",
    "finald=pd.merge(finald,billnumbers,on=\"CustomerId\")"
   ]
  },
  {
   "cell_type": "code",
   "execution_count": 1356,
   "metadata": {},
   "outputs": [
    {
     "data": {
      "text/html": [
       "<div>\n",
       "<style scoped>\n",
       "    .dataframe tbody tr th:only-of-type {\n",
       "        vertical-align: middle;\n",
       "    }\n",
       "\n",
       "    .dataframe tbody tr th {\n",
       "        vertical-align: top;\n",
       "    }\n",
       "\n",
       "    .dataframe thead th {\n",
       "        text-align: right;\n",
       "    }\n",
       "</style>\n",
       "<table border=\"1\" class=\"dataframe\">\n",
       "  <thead>\n",
       "    <tr style=\"text-align: right;\">\n",
       "      <th></th>\n",
       "      <th>CustomerId</th>\n",
       "      <th>Total_Price</th>\n",
       "      <th>gender</th>\n",
       "      <th>MaritalStatus</th>\n",
       "      <th>Familysize</th>\n",
       "      <th>Age</th>\n",
       "      <th>BillNumber</th>\n",
       "      <th>times</th>\n",
       "    </tr>\n",
       "  </thead>\n",
       "  <tbody>\n",
       "    <tr>\n",
       "      <th>0</th>\n",
       "      <td>C21116</td>\n",
       "      <td>77183.60</td>\n",
       "      <td>M</td>\n",
       "      <td>Yes</td>\n",
       "      <td>4</td>\n",
       "      <td>56</td>\n",
       "      <td>[B14456]</td>\n",
       "      <td>1</td>\n",
       "    </tr>\n",
       "    <tr>\n",
       "      <th>1</th>\n",
       "      <td>C21123</td>\n",
       "      <td>1079.40</td>\n",
       "      <td>M</td>\n",
       "      <td>Yes</td>\n",
       "      <td>4</td>\n",
       "      <td>76</td>\n",
       "      <td>[B18179]</td>\n",
       "      <td>1</td>\n",
       "    </tr>\n",
       "    <tr>\n",
       "      <th>2</th>\n",
       "      <td>C21126</td>\n",
       "      <td>6207.67</td>\n",
       "      <td>F</td>\n",
       "      <td>Yes</td>\n",
       "      <td>2</td>\n",
       "      <td>21</td>\n",
       "      <td>[B28083]</td>\n",
       "      <td>1</td>\n",
       "    </tr>\n",
       "    <tr>\n",
       "      <th>3</th>\n",
       "      <td>C21142</td>\n",
       "      <td>1628.12</td>\n",
       "      <td>F</td>\n",
       "      <td>Yes</td>\n",
       "      <td>4</td>\n",
       "      <td>73</td>\n",
       "      <td>[B13842, B14849]</td>\n",
       "      <td>2</td>\n",
       "    </tr>\n",
       "    <tr>\n",
       "      <th>4</th>\n",
       "      <td>C21152</td>\n",
       "      <td>452.36</td>\n",
       "      <td>M</td>\n",
       "      <td>Yes</td>\n",
       "      <td>4</td>\n",
       "      <td>41</td>\n",
       "      <td>[B29205]</td>\n",
       "      <td>1</td>\n",
       "    </tr>\n",
       "  </tbody>\n",
       "</table>\n",
       "</div>"
      ],
      "text/plain": [
       "  CustomerId  Total_Price gender MaritalStatus  Familysize  Age  \\\n",
       "0     C21116     77183.60      M           Yes           4   56   \n",
       "1     C21123      1079.40      M           Yes           4   76   \n",
       "2     C21126      6207.67      F           Yes           2   21   \n",
       "3     C21142      1628.12      F           Yes           4   73   \n",
       "4     C21152       452.36      M           Yes           4   41   \n",
       "\n",
       "         BillNumber  times  \n",
       "0          [B14456]      1  \n",
       "1          [B18179]      1  \n",
       "2          [B28083]      1  \n",
       "3  [B13842, B14849]      2  \n",
       "4          [B29205]      1  "
      ]
     },
     "execution_count": 1356,
     "metadata": {},
     "output_type": "execute_result"
    }
   ],
   "source": [
    "finald.head()"
   ]
  },
  {
   "cell_type": "code",
   "execution_count": 1357,
   "metadata": {},
   "outputs": [
    {
     "data": {
      "text/html": [
       "<div>\n",
       "<style scoped>\n",
       "    .dataframe tbody tr th:only-of-type {\n",
       "        vertical-align: middle;\n",
       "    }\n",
       "\n",
       "    .dataframe tbody tr th {\n",
       "        vertical-align: top;\n",
       "    }\n",
       "\n",
       "    .dataframe thead th {\n",
       "        text-align: right;\n",
       "    }\n",
       "</style>\n",
       "<table border=\"1\" class=\"dataframe\">\n",
       "  <thead>\n",
       "    <tr style=\"text-align: right;\">\n",
       "      <th></th>\n",
       "      <th>CustomerId</th>\n",
       "      <th>Total_Price</th>\n",
       "      <th>gender</th>\n",
       "      <th>MaritalStatus</th>\n",
       "      <th>Familysize</th>\n",
       "      <th>Age</th>\n",
       "      <th>BillNumber</th>\n",
       "      <th>times</th>\n",
       "      <th>retention</th>\n",
       "    </tr>\n",
       "  </thead>\n",
       "  <tbody>\n",
       "    <tr>\n",
       "      <th>0</th>\n",
       "      <td>C21116</td>\n",
       "      <td>77183.60</td>\n",
       "      <td>M</td>\n",
       "      <td>Yes</td>\n",
       "      <td>4</td>\n",
       "      <td>56</td>\n",
       "      <td>[B14456]</td>\n",
       "      <td>1</td>\n",
       "      <td>0.00</td>\n",
       "    </tr>\n",
       "    <tr>\n",
       "      <th>1</th>\n",
       "      <td>C21123</td>\n",
       "      <td>1079.40</td>\n",
       "      <td>M</td>\n",
       "      <td>Yes</td>\n",
       "      <td>4</td>\n",
       "      <td>76</td>\n",
       "      <td>[B18179]</td>\n",
       "      <td>1</td>\n",
       "      <td>0.00</td>\n",
       "    </tr>\n",
       "    <tr>\n",
       "      <th>2</th>\n",
       "      <td>C21126</td>\n",
       "      <td>6207.67</td>\n",
       "      <td>F</td>\n",
       "      <td>Yes</td>\n",
       "      <td>2</td>\n",
       "      <td>21</td>\n",
       "      <td>[B28083]</td>\n",
       "      <td>1</td>\n",
       "      <td>0.00</td>\n",
       "    </tr>\n",
       "    <tr>\n",
       "      <th>3</th>\n",
       "      <td>C21142</td>\n",
       "      <td>1628.12</td>\n",
       "      <td>F</td>\n",
       "      <td>Yes</td>\n",
       "      <td>4</td>\n",
       "      <td>73</td>\n",
       "      <td>[B13842, B14849]</td>\n",
       "      <td>2</td>\n",
       "      <td>39.25</td>\n",
       "    </tr>\n",
       "    <tr>\n",
       "      <th>4</th>\n",
       "      <td>C21152</td>\n",
       "      <td>452.36</td>\n",
       "      <td>M</td>\n",
       "      <td>Yes</td>\n",
       "      <td>4</td>\n",
       "      <td>41</td>\n",
       "      <td>[B29205]</td>\n",
       "      <td>1</td>\n",
       "      <td>0.00</td>\n",
       "    </tr>\n",
       "  </tbody>\n",
       "</table>\n",
       "</div>"
      ],
      "text/plain": [
       "  CustomerId  Total_Price gender MaritalStatus  Familysize  Age  \\\n",
       "0     C21116     77183.60      M           Yes           4   56   \n",
       "1     C21123      1079.40      M           Yes           4   76   \n",
       "2     C21126      6207.67      F           Yes           2   21   \n",
       "3     C21142      1628.12      F           Yes           4   73   \n",
       "4     C21152       452.36      M           Yes           4   41   \n",
       "\n",
       "         BillNumber  times  retention  \n",
       "0          [B14456]      1       0.00  \n",
       "1          [B18179]      1       0.00  \n",
       "2          [B28083]      1       0.00  \n",
       "3  [B13842, B14849]      2      39.25  \n",
       "4          [B29205]      1       0.00  "
      ]
     },
     "execution_count": 1357,
     "metadata": {},
     "output_type": "execute_result"
    }
   ],
   "source": [
    "data_test2.BillDate=pd.to_datetime(data_test2.BillDate)\n",
    "timedelta1=(data_test2.groupby(\"CustomerId\").BillDate.max()-data_test2.groupby(\"CustomerId\").BillDate.min()).astype('timedelta64[h]')\n",
    "\n",
    "timedelta1=timedelta1/24\n",
    "td1=pd.DataFrame(timedelta1)\n",
    "td1.columns=[\"retention\"]\n",
    "td1.reset_index(inplace=True)\n",
    "finald=pd.merge(finald,td1,on=\"CustomerId\")\n",
    "finald.head()"
   ]
  },
  {
   "cell_type": "code",
   "execution_count": 1358,
   "metadata": {},
   "outputs": [
    {
     "data": {
      "text/plain": [
       "CustomerId         object\n",
       "Total_Price       float64\n",
       "gender           category\n",
       "MaritalStatus    category\n",
       "Familysize       category\n",
       "Age                 int64\n",
       "BillNumber         object\n",
       "times               int64\n",
       "retention         float64\n",
       "dtype: object"
      ]
     },
     "execution_count": 1358,
     "metadata": {},
     "output_type": "execute_result"
    }
   ],
   "source": [
    "#Type Conversions\n",
    "finald.gender=data.gender.astype(\"category\")\n",
    "finald.Familysize=data.Familysize.astype(\"category\")\n",
    "finald.MaritalStatus=data.MaritalStatus.astype(\"category\")\n",
    "finald.dtypes"
   ]
  },
  {
   "cell_type": "code",
   "execution_count": 1359,
   "metadata": {},
   "outputs": [
    {
     "data": {
      "text/html": [
       "<div>\n",
       "<style scoped>\n",
       "    .dataframe tbody tr th:only-of-type {\n",
       "        vertical-align: middle;\n",
       "    }\n",
       "\n",
       "    .dataframe tbody tr th {\n",
       "        vertical-align: top;\n",
       "    }\n",
       "\n",
       "    .dataframe thead th {\n",
       "        text-align: right;\n",
       "    }\n",
       "</style>\n",
       "<table border=\"1\" class=\"dataframe\">\n",
       "  <thead>\n",
       "    <tr style=\"text-align: right;\">\n",
       "      <th></th>\n",
       "      <th>CustomerId</th>\n",
       "      <th>Total_Price</th>\n",
       "      <th>gender</th>\n",
       "      <th>MaritalStatus</th>\n",
       "      <th>Familysize</th>\n",
       "      <th>Age</th>\n",
       "      <th>BillNumber</th>\n",
       "      <th>times</th>\n",
       "      <th>retention</th>\n",
       "    </tr>\n",
       "  </thead>\n",
       "  <tbody>\n",
       "    <tr>\n",
       "      <th>0</th>\n",
       "      <td>C21116</td>\n",
       "      <td>77183.60</td>\n",
       "      <td>F</td>\n",
       "      <td>Yes</td>\n",
       "      <td>4</td>\n",
       "      <td>45-60</td>\n",
       "      <td>[B14456]</td>\n",
       "      <td>1</td>\n",
       "      <td>0.00</td>\n",
       "    </tr>\n",
       "    <tr>\n",
       "      <th>1</th>\n",
       "      <td>C21123</td>\n",
       "      <td>1079.40</td>\n",
       "      <td>F</td>\n",
       "      <td>Yes</td>\n",
       "      <td>3</td>\n",
       "      <td>60-100</td>\n",
       "      <td>[B18179]</td>\n",
       "      <td>1</td>\n",
       "      <td>0.00</td>\n",
       "    </tr>\n",
       "    <tr>\n",
       "      <th>2</th>\n",
       "      <td>C21126</td>\n",
       "      <td>6207.67</td>\n",
       "      <td>F</td>\n",
       "      <td>Yes</td>\n",
       "      <td>2</td>\n",
       "      <td>0-25</td>\n",
       "      <td>[B28083]</td>\n",
       "      <td>1</td>\n",
       "      <td>0.00</td>\n",
       "    </tr>\n",
       "    <tr>\n",
       "      <th>3</th>\n",
       "      <td>C21142</td>\n",
       "      <td>1628.12</td>\n",
       "      <td>M</td>\n",
       "      <td>Yes</td>\n",
       "      <td>2</td>\n",
       "      <td>60-100</td>\n",
       "      <td>[B13842, B14849]</td>\n",
       "      <td>2</td>\n",
       "      <td>39.25</td>\n",
       "    </tr>\n",
       "  </tbody>\n",
       "</table>\n",
       "</div>"
      ],
      "text/plain": [
       "  CustomerId  Total_Price gender MaritalStatus Familysize     Age  \\\n",
       "0     C21116     77183.60      F           Yes          4   45-60   \n",
       "1     C21123      1079.40      F           Yes          3  60-100   \n",
       "2     C21126      6207.67      F           Yes          2    0-25   \n",
       "3     C21142      1628.12      M           Yes          2  60-100   \n",
       "\n",
       "         BillNumber  times  retention  \n",
       "0          [B14456]      1       0.00  \n",
       "1          [B18179]      1       0.00  \n",
       "2          [B28083]      1       0.00  \n",
       "3  [B13842, B14849]      2      39.25  "
      ]
     },
     "execution_count": 1359,
     "metadata": {},
     "output_type": "execute_result"
    }
   ],
   "source": [
    "bins = [0,25,35,45,60,100]\n",
    "\n",
    "group_names = ['0-25', '25-35', '35-45', '45-60',\"60-100\"]\n",
    "\n",
    "finald['Age'] = pd.cut(finald['Age'], bins, labels=group_names)\n",
    "\n",
    "finald.head(4)"
   ]
  },
  {
   "cell_type": "code",
   "execution_count": 1360,
   "metadata": {},
   "outputs": [
    {
     "data": {
      "text/html": [
       "<div>\n",
       "<style scoped>\n",
       "    .dataframe tbody tr th:only-of-type {\n",
       "        vertical-align: middle;\n",
       "    }\n",
       "\n",
       "    .dataframe tbody tr th {\n",
       "        vertical-align: top;\n",
       "    }\n",
       "\n",
       "    .dataframe thead th {\n",
       "        text-align: right;\n",
       "    }\n",
       "</style>\n",
       "<table border=\"1\" class=\"dataframe\">\n",
       "  <thead>\n",
       "    <tr style=\"text-align: right;\">\n",
       "      <th></th>\n",
       "      <th>CustomerId</th>\n",
       "      <th>Total_Price</th>\n",
       "      <th>gender</th>\n",
       "      <th>MaritalStatus</th>\n",
       "      <th>Familysize</th>\n",
       "      <th>Age</th>\n",
       "      <th>BillNumber</th>\n",
       "      <th>times</th>\n",
       "      <th>retention</th>\n",
       "    </tr>\n",
       "  </thead>\n",
       "  <tbody>\n",
       "    <tr>\n",
       "      <th>0</th>\n",
       "      <td>C21116</td>\n",
       "      <td>77183.60</td>\n",
       "      <td>F</td>\n",
       "      <td>Yes</td>\n",
       "      <td>4</td>\n",
       "      <td>45-60</td>\n",
       "      <td>[B14456]</td>\n",
       "      <td>1</td>\n",
       "      <td>0.00</td>\n",
       "    </tr>\n",
       "    <tr>\n",
       "      <th>1</th>\n",
       "      <td>C21123</td>\n",
       "      <td>1079.40</td>\n",
       "      <td>F</td>\n",
       "      <td>Yes</td>\n",
       "      <td>3</td>\n",
       "      <td>60-100</td>\n",
       "      <td>[B18179]</td>\n",
       "      <td>1</td>\n",
       "      <td>0.00</td>\n",
       "    </tr>\n",
       "    <tr>\n",
       "      <th>2</th>\n",
       "      <td>C21126</td>\n",
       "      <td>6207.67</td>\n",
       "      <td>F</td>\n",
       "      <td>Yes</td>\n",
       "      <td>2</td>\n",
       "      <td>0-25</td>\n",
       "      <td>[B28083]</td>\n",
       "      <td>1</td>\n",
       "      <td>0.00</td>\n",
       "    </tr>\n",
       "    <tr>\n",
       "      <th>3</th>\n",
       "      <td>C21142</td>\n",
       "      <td>1628.12</td>\n",
       "      <td>M</td>\n",
       "      <td>Yes</td>\n",
       "      <td>2</td>\n",
       "      <td>60-100</td>\n",
       "      <td>[B13842, B14849]</td>\n",
       "      <td>2</td>\n",
       "      <td>39.25</td>\n",
       "    </tr>\n",
       "  </tbody>\n",
       "</table>\n",
       "</div>"
      ],
      "text/plain": [
       "  CustomerId  Total_Price gender MaritalStatus Familysize     Age  \\\n",
       "0     C21116     77183.60      F           Yes          4   45-60   \n",
       "1     C21123      1079.40      F           Yes          3  60-100   \n",
       "2     C21126      6207.67      F           Yes          2    0-25   \n",
       "3     C21142      1628.12      M           Yes          2  60-100   \n",
       "\n",
       "         BillNumber  times  retention  \n",
       "0          [B14456]      1       0.00  \n",
       "1          [B18179]      1       0.00  \n",
       "2          [B28083]      1       0.00  \n",
       "3  [B13842, B14849]      2      39.25  "
      ]
     },
     "execution_count": 1360,
     "metadata": {},
     "output_type": "execute_result"
    }
   ],
   "source": [
    "finald.head(4)"
   ]
  },
  {
   "cell_type": "code",
   "execution_count": 1361,
   "metadata": {},
   "outputs": [
    {
     "data": {
      "text/plain": [
       "Index(['CustomerId', 'Total_Price', 'gender', 'MaritalStatus', 'Familysize',\n",
       "       'Age', 'BillNumber', 'times', 'retention'],\n",
       "      dtype='object')"
      ]
     },
     "execution_count": 1361,
     "metadata": {},
     "output_type": "execute_result"
    }
   ],
   "source": [
    "finald.columns"
   ]
  },
  {
   "cell_type": "code",
   "execution_count": 1362,
   "metadata": {},
   "outputs": [
    {
     "data": {
      "text/html": [
       "<div>\n",
       "<style scoped>\n",
       "    .dataframe tbody tr th:only-of-type {\n",
       "        vertical-align: middle;\n",
       "    }\n",
       "\n",
       "    .dataframe tbody tr th {\n",
       "        vertical-align: top;\n",
       "    }\n",
       "\n",
       "    .dataframe thead th {\n",
       "        text-align: right;\n",
       "    }\n",
       "</style>\n",
       "<table border=\"1\" class=\"dataframe\">\n",
       "  <thead>\n",
       "    <tr style=\"text-align: right;\">\n",
       "      <th></th>\n",
       "      <th>gender</th>\n",
       "      <th>MaritalStatus</th>\n",
       "      <th>Familysize</th>\n",
       "      <th>Age</th>\n",
       "    </tr>\n",
       "  </thead>\n",
       "  <tbody>\n",
       "    <tr>\n",
       "      <th>0</th>\n",
       "      <td>F</td>\n",
       "      <td>Yes</td>\n",
       "      <td>4</td>\n",
       "      <td>45-60</td>\n",
       "    </tr>\n",
       "    <tr>\n",
       "      <th>1</th>\n",
       "      <td>F</td>\n",
       "      <td>Yes</td>\n",
       "      <td>3</td>\n",
       "      <td>60-100</td>\n",
       "    </tr>\n",
       "    <tr>\n",
       "      <th>2</th>\n",
       "      <td>F</td>\n",
       "      <td>Yes</td>\n",
       "      <td>2</td>\n",
       "      <td>0-25</td>\n",
       "    </tr>\n",
       "  </tbody>\n",
       "</table>\n",
       "</div>"
      ],
      "text/plain": [
       "  gender MaritalStatus Familysize     Age\n",
       "0      F           Yes          4   45-60\n",
       "1      F           Yes          3  60-100\n",
       "2      F           Yes          2    0-25"
      ]
     },
     "execution_count": 1362,
     "metadata": {},
     "output_type": "execute_result"
    }
   ],
   "source": [
    "X_num=finald.select_dtypes(include=['int16', 'int32', 'int64', 'float16', 'float32', 'float64'])\n",
    "X_cat=finald.select_dtypes(include=[\"category\"])\n",
    "X_cat.head(3)"
   ]
  },
  {
   "cell_type": "code",
   "execution_count": 1363,
   "metadata": {},
   "outputs": [],
   "source": [
    "d=pd.get_dummies(X_cat,drop_first=True)\n",
    "X_stand=pd.DataFrame(scaler.transform(X_num),columns=X_num.columns)\n",
    "X_processed=pd.merge(X_stand,d,left_index=True,right_index=True)"
   ]
  },
  {
   "cell_type": "code",
   "execution_count": 1364,
   "metadata": {},
   "outputs": [
    {
     "data": {
      "text/html": [
       "<div>\n",
       "<style scoped>\n",
       "    .dataframe tbody tr th:only-of-type {\n",
       "        vertical-align: middle;\n",
       "    }\n",
       "\n",
       "    .dataframe tbody tr th {\n",
       "        vertical-align: top;\n",
       "    }\n",
       "\n",
       "    .dataframe thead th {\n",
       "        text-align: right;\n",
       "    }\n",
       "</style>\n",
       "<table border=\"1\" class=\"dataframe\">\n",
       "  <thead>\n",
       "    <tr style=\"text-align: right;\">\n",
       "      <th></th>\n",
       "      <th>Total_Price</th>\n",
       "      <th>times</th>\n",
       "      <th>retention</th>\n",
       "      <th>gender_M</th>\n",
       "      <th>MaritalStatus_Yes</th>\n",
       "      <th>Familysize_2</th>\n",
       "      <th>Familysize_3</th>\n",
       "      <th>Familysize_4</th>\n",
       "      <th>Age_25-35</th>\n",
       "      <th>Age_35-45</th>\n",
       "      <th>Age_45-60</th>\n",
       "      <th>Age_60-100</th>\n",
       "    </tr>\n",
       "  </thead>\n",
       "  <tbody>\n",
       "    <tr>\n",
       "      <th>0</th>\n",
       "      <td>7.156490</td>\n",
       "      <td>-0.465485</td>\n",
       "      <td>-1.856651</td>\n",
       "      <td>0</td>\n",
       "      <td>1</td>\n",
       "      <td>0</td>\n",
       "      <td>0</td>\n",
       "      <td>1</td>\n",
       "      <td>0</td>\n",
       "      <td>0</td>\n",
       "      <td>1</td>\n",
       "      <td>0</td>\n",
       "    </tr>\n",
       "    <tr>\n",
       "      <th>1</th>\n",
       "      <td>-0.123064</td>\n",
       "      <td>-0.465485</td>\n",
       "      <td>-1.856651</td>\n",
       "      <td>0</td>\n",
       "      <td>1</td>\n",
       "      <td>0</td>\n",
       "      <td>1</td>\n",
       "      <td>0</td>\n",
       "      <td>0</td>\n",
       "      <td>0</td>\n",
       "      <td>0</td>\n",
       "      <td>1</td>\n",
       "    </tr>\n",
       "    <tr>\n",
       "      <th>2</th>\n",
       "      <td>0.367468</td>\n",
       "      <td>-0.465485</td>\n",
       "      <td>-1.856651</td>\n",
       "      <td>0</td>\n",
       "      <td>1</td>\n",
       "      <td>1</td>\n",
       "      <td>0</td>\n",
       "      <td>0</td>\n",
       "      <td>0</td>\n",
       "      <td>0</td>\n",
       "      <td>0</td>\n",
       "      <td>0</td>\n",
       "    </tr>\n",
       "    <tr>\n",
       "      <th>3</th>\n",
       "      <td>-0.070577</td>\n",
       "      <td>-0.322581</td>\n",
       "      <td>-1.490680</td>\n",
       "      <td>1</td>\n",
       "      <td>1</td>\n",
       "      <td>1</td>\n",
       "      <td>0</td>\n",
       "      <td>0</td>\n",
       "      <td>0</td>\n",
       "      <td>0</td>\n",
       "      <td>0</td>\n",
       "      <td>1</td>\n",
       "    </tr>\n",
       "    <tr>\n",
       "      <th>4</th>\n",
       "      <td>-0.183042</td>\n",
       "      <td>-0.465485</td>\n",
       "      <td>-1.856651</td>\n",
       "      <td>0</td>\n",
       "      <td>1</td>\n",
       "      <td>1</td>\n",
       "      <td>0</td>\n",
       "      <td>0</td>\n",
       "      <td>0</td>\n",
       "      <td>1</td>\n",
       "      <td>0</td>\n",
       "      <td>0</td>\n",
       "    </tr>\n",
       "  </tbody>\n",
       "</table>\n",
       "</div>"
      ],
      "text/plain": [
       "   Total_Price     times  retention  gender_M  MaritalStatus_Yes  \\\n",
       "0     7.156490 -0.465485  -1.856651         0                  1   \n",
       "1    -0.123064 -0.465485  -1.856651         0                  1   \n",
       "2     0.367468 -0.465485  -1.856651         0                  1   \n",
       "3    -0.070577 -0.322581  -1.490680         1                  1   \n",
       "4    -0.183042 -0.465485  -1.856651         0                  1   \n",
       "\n",
       "   Familysize_2  Familysize_3  Familysize_4  Age_25-35  Age_35-45  Age_45-60  \\\n",
       "0             0             0             1          0          0          1   \n",
       "1             0             1             0          0          0          0   \n",
       "2             1             0             0          0          0          0   \n",
       "3             1             0             0          0          0          0   \n",
       "4             1             0             0          0          1          0   \n",
       "\n",
       "   Age_60-100  \n",
       "0           0  \n",
       "1           1  \n",
       "2           0  \n",
       "3           1  \n",
       "4           0  "
      ]
     },
     "execution_count": 1364,
     "metadata": {},
     "output_type": "execute_result"
    }
   ],
   "source": [
    "X_processed.head()"
   ]
  },
  {
   "cell_type": "code",
   "execution_count": 1370,
   "metadata": {},
   "outputs": [],
   "source": [
    "final_test=CV_clf.predict(X_processed)"
   ]
  },
  {
   "cell_type": "code",
   "execution_count": 1366,
   "metadata": {},
   "outputs": [
    {
     "data": {
      "text/html": [
       "<div>\n",
       "<style scoped>\n",
       "    .dataframe tbody tr th:only-of-type {\n",
       "        vertical-align: middle;\n",
       "    }\n",
       "\n",
       "    .dataframe tbody tr th {\n",
       "        vertical-align: top;\n",
       "    }\n",
       "\n",
       "    .dataframe thead th {\n",
       "        text-align: right;\n",
       "    }\n",
       "</style>\n",
       "<table border=\"1\" class=\"dataframe\">\n",
       "  <thead>\n",
       "    <tr style=\"text-align: right;\">\n",
       "      <th></th>\n",
       "      <th>CustomerValue</th>\n",
       "      <th>CustomerId</th>\n",
       "    </tr>\n",
       "  </thead>\n",
       "  <tbody>\n",
       "    <tr>\n",
       "      <th>0</th>\n",
       "      <td>High</td>\n",
       "      <td>C21116</td>\n",
       "    </tr>\n",
       "    <tr>\n",
       "      <th>1</th>\n",
       "      <td>High</td>\n",
       "      <td>C21123</td>\n",
       "    </tr>\n",
       "    <tr>\n",
       "      <th>2</th>\n",
       "      <td>High</td>\n",
       "      <td>C21126</td>\n",
       "    </tr>\n",
       "    <tr>\n",
       "      <th>3</th>\n",
       "      <td>High</td>\n",
       "      <td>C21142</td>\n",
       "    </tr>\n",
       "    <tr>\n",
       "      <th>4</th>\n",
       "      <td>High</td>\n",
       "      <td>C21152</td>\n",
       "    </tr>\n",
       "  </tbody>\n",
       "</table>\n",
       "</div>"
      ],
      "text/plain": [
       "  CustomerValue CustomerId\n",
       "0          High     C21116\n",
       "1          High     C21123\n",
       "2          High     C21126\n",
       "3          High     C21142\n",
       "4          High     C21152"
      ]
     },
     "execution_count": 1366,
     "metadata": {},
     "output_type": "execute_result"
    }
   ],
   "source": [
    "final=pd.DataFrame(final_test)\n",
    "\n",
    "final[\"CustomerId\"]=data_test1.CustomerId\n",
    "final.columns=[\"CustomerValue\",\"CustomerId\"]\n",
    "final.head()"
   ]
  },
  {
   "cell_type": "code",
   "execution_count": 1367,
   "metadata": {},
   "outputs": [],
   "source": [
    "final=final[[\"CustomerId\",\"CustomerValue\"]]"
   ]
  },
  {
   "cell_type": "code",
   "execution_count": 1368,
   "metadata": {},
   "outputs": [
    {
     "data": {
      "text/html": [
       "<div>\n",
       "<style scoped>\n",
       "    .dataframe tbody tr th:only-of-type {\n",
       "        vertical-align: middle;\n",
       "    }\n",
       "\n",
       "    .dataframe tbody tr th {\n",
       "        vertical-align: top;\n",
       "    }\n",
       "\n",
       "    .dataframe thead th {\n",
       "        text-align: right;\n",
       "    }\n",
       "</style>\n",
       "<table border=\"1\" class=\"dataframe\">\n",
       "  <thead>\n",
       "    <tr style=\"text-align: right;\">\n",
       "      <th></th>\n",
       "      <th>CustomerId</th>\n",
       "      <th>CustomerValue</th>\n",
       "    </tr>\n",
       "  </thead>\n",
       "  <tbody>\n",
       "    <tr>\n",
       "      <th>0</th>\n",
       "      <td>C21116</td>\n",
       "      <td>High</td>\n",
       "    </tr>\n",
       "    <tr>\n",
       "      <th>1</th>\n",
       "      <td>C21123</td>\n",
       "      <td>High</td>\n",
       "    </tr>\n",
       "    <tr>\n",
       "      <th>2</th>\n",
       "      <td>C21126</td>\n",
       "      <td>High</td>\n",
       "    </tr>\n",
       "    <tr>\n",
       "      <th>3</th>\n",
       "      <td>C21142</td>\n",
       "      <td>High</td>\n",
       "    </tr>\n",
       "    <tr>\n",
       "      <th>4</th>\n",
       "      <td>C21152</td>\n",
       "      <td>High</td>\n",
       "    </tr>\n",
       "  </tbody>\n",
       "</table>\n",
       "</div>"
      ],
      "text/plain": [
       "  CustomerId CustomerValue\n",
       "0     C21116          High\n",
       "1     C21123          High\n",
       "2     C21126          High\n",
       "3     C21142          High\n",
       "4     C21152          High"
      ]
     },
     "execution_count": 1368,
     "metadata": {},
     "output_type": "execute_result"
    }
   ],
   "source": [
    "final.head()"
   ]
  },
  {
   "cell_type": "code",
   "execution_count": 1369,
   "metadata": {},
   "outputs": [],
   "source": [
    "final.to_csv(\"submission5.csv\",index=False)"
   ]
  },
  {
   "cell_type": "markdown",
   "metadata": {},
   "source": [
    "#### Got a score of 67% Accuracy"
   ]
  }
 ],
 "metadata": {
  "kernelspec": {
   "display_name": "Python 3",
   "language": "python",
   "name": "python3"
  },
  "language_info": {
   "codemirror_mode": {
    "name": "ipython",
    "version": 3
   },
   "file_extension": ".py",
   "mimetype": "text/x-python",
   "name": "python",
   "nbconvert_exporter": "python",
   "pygments_lexer": "ipython3",
   "version": "3.7.3"
  }
 },
 "nbformat": 4,
 "nbformat_minor": 2
}
